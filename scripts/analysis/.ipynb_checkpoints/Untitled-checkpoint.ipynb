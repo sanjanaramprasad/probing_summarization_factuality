{
 "cells": [
  {
   "cell_type": "code",
   "execution_count": 1,
   "id": "ce3fceb8-68e3-458b-91d8-cc3b18f5ccb5",
   "metadata": {},
   "outputs": [],
   "source": [
    "import torch\n",
    "import os \n",
    "import uuid\n",
    "import pandas as pd\n",
    "import torch.nn.functional as F\n",
    "from scripts.utils import load_model\n",
    "from tqdm import tqdm\n"
   ]
  },
  {
   "cell_type": "code",
   "execution_count": 2,
   "id": "f54ae165-3d8a-4c87-937a-3421ce353403",
   "metadata": {},
   "outputs": [],
   "source": [
    "import warnings\n",
    "warnings.filterwarnings('ignore')"
   ]
  },
  {
   "cell_type": "code",
   "execution_count": 2,
   "id": "b2c7deb5-38c7-4360-8d9d-620f88bbbfe2",
   "metadata": {},
   "outputs": [
    {
     "data": {
      "application/vnd.jupyter.widget-view+json": {
       "model_id": "dd291b087a224f009c37072977194399",
       "version_major": 2,
       "version_minor": 0
      },
      "text/plain": [
       "Loading checkpoint shards:   0%|          | 0/2 [00:00<?, ?it/s]"
      ]
     },
     "metadata": {},
     "output_type": "display_data"
    }
   ],
   "source": [
    "\n",
    "model_name = 'mistral7b'\n",
    "tokenizer, model = load_model(f'{model_name}')"
   ]
  },
  {
   "cell_type": "code",
   "execution_count": 3,
   "id": "8c8b7901-f4c3-4b2f-b345-e1a1cc55630e",
   "metadata": {},
   "outputs": [],
   "source": [
    "import numpy as np\n",
    "from scipy.stats import entropy\n",
    "from numpy.linalg import norm\n",
    "import numpy as np\n",
    "\n",
    "\n",
    "def KL_divergence(P,Q):\n",
    "    # print(P * np.log(P / Q))\n",
    "    kl_values = P * np.log(P / Q)\n",
    "    kl_values = kl_values[np.isfinite(kl_values)]  # remove entries where p or q is 0\n",
    "    kl_div = np.sum(kl_values)\n",
    "    return kl_div\n",
    "    \n",
    "def JSD(P, Q):\n",
    "    _P = P / norm(P, ord=1)\n",
    "    _Q = Q / norm(Q, ord=1)\n",
    "    _M = 0.5 * (_P + _Q)\n",
    "    return round(0.5 * (KL_divergence(_P, _M) + KL_divergence(_Q, _M)), 5)\n",
    "\n",
    "\n",
    "# # Example usage:\n",
    "# p = [0.4, 0.3, 0.2, 0.1]\n",
    "# q = [0.2, 0.3, 0.4, 0.1]\n",
    "# jsd_value = JSD(p, q)\n",
    "# # jsd_value = jensen_shannon_divergence(p, q)\n",
    "# print(\"Jensen-Shannon Divergence:\", jsd_value)\n"
   ]
  },
  {
   "cell_type": "code",
   "execution_count": 4,
   "id": "73a9991f-fcbd-4f74-aeb6-45add575d395",
   "metadata": {},
   "outputs": [],
   "source": [
    "from scipy.spatial import distance\n",
    "from sklearn.metrics.pairwise import cosine_similarity\n",
    "\n",
    "def get_hstates_prediction(hstate, model):\n",
    "    logits = model.lm_head(hstate.to('cuda'))\n",
    "    probs = F.softmax(logits, dim=-1).cpu().detach()\n",
    "    predicted_tokens = []\n",
    "    for layer in probs:\n",
    "        predicted_tokens.append(torch.tensor([torch.argmax(layer).item()]))\n",
    "    assert(len(predicted_tokens) == probs.shape[0])\n",
    "    predicted_tokens = torch.stack(predicted_tokens, dim = 0)\n",
    "    return predicted_tokens, probs.cpu().detach().numpy()\n",
    "\n",
    "# P(O) across layers\n",
    "# P(M) across layers\n",
    "# Preicted token at each layer\n",
    "# JSD(V,M) for each layer\n",
    "# sim(H(l), H{l-1)) forr layers 2, 32\n",
    "# 0 - 32( 0 is embedding, 1 is layer 1, 32 is last layer))\n",
    "\n",
    "\n",
    "\n",
    "def make_layer_df(df_dict,\n",
    "                  layer_num,\n",
    "                  prob_dist,\n",
    "                  final_layer_prob,\n",
    "                  predicted_tokens,\n",
    "                 target_token):\n",
    "    \n",
    "    \n",
    "    jsd_final_layer = JSD(final_layer_prob, prob_dist)\n",
    "    \n",
    "    # print(layer_num, jsd_final_layer)\n",
    "    prob_dist = prob_dist.tolist()\n",
    "    \n",
    "    ### layer predicted token\n",
    "    pred_prob = max(prob_dist)\n",
    "    pred_token = predicted_tokens[layer_num].item()\n",
    "            \n",
    "    ### final generated token prob\n",
    "    target_token_prob = prob_dist[target_token]\n",
    "        \n",
    "    top3_predicted_probs = sorted(prob_dist, reverse = True)[:3]\n",
    "    top3_predicted_tokens = [prob_dist.index(each) for each in top3_predicted_probs]\n",
    "    # print(layer_num, pred_prob, pred_token, target_token, target_token_prob)\n",
    "    \n",
    "    jsd_key = f'jsd_layer{layer_num}'\n",
    "    df_dict[jsd_key] = [jsd_final_layer]\n",
    "\n",
    "    pred_prob_layer_key = f'pred_prob_layer{layer_num}'\n",
    "    df_dict[pred_prob_layer_key] = [pred_prob]\n",
    "    \n",
    "    pred_token_layer_key = f'pred_token_layer{layer_num}'\n",
    "    df_dict[pred_token_layer_key] = [pred_token]\n",
    "\n",
    "    target_prob_layer_key = f'target_prob_layer{layer_num}'\n",
    "    df_dict[target_prob_layer_key] = [target_token_prob]\n",
    "\n",
    "    top3_predicted_probs_key = f'top3_predicted_probs_layer{layer_num}'\n",
    "    df_dict[top3_predicted_probs_key] = [top3_predicted_probs]\n",
    "\n",
    "    top3_predicted_tokens_key = f'top3_predicted_tokens_layer{layer_num}'\n",
    "    df_dict[top3_predicted_tokens_key] = [top3_predicted_tokens]\n",
    "    return df_dict\n",
    "                \n",
    "def get_token_layer_info_dict(summ_token_hstates,\n",
    "                              target_token,\n",
    "                              factual_label,\n",
    "                              model):\n",
    "    \n",
    "    predicted_tokens, probs = get_hstates_prediction(summ_token_hstates, model)\n",
    "    \n",
    "    rand_token_id = uuid.uuid4()\n",
    "    df_dict = {\n",
    "            'target_token': [],\n",
    "            'label': []}\n",
    "    \n",
    "    df_dict['target_token'].append(f'{rand_token_id}_{target_token}')\n",
    "    \n",
    "    for layer_num in range(0, summ_token_hstates.shape[0]):\n",
    "        if layer_num > 0:\n",
    "            hidden_state_sim = cosine_similarity(summ_token_hstates[layer_num,:].unsqueeze(0), summ_token_hstates[layer_num- 1,:].unsqueeze(0))\n",
    "            hidden_state_sim = hidden_state_sim[0][0]\n",
    "            df_dict[f'prev_hidden_state_sim_layer{layer_num}'] = [hidden_state_sim]\n",
    "            \n",
    "    # print(summ_token_hstates.shape)\n",
    "    final_layer_prob = probs[-1]\n",
    "    # print(final_layer_prob.shape)\n",
    "    for layer_num in range(0, predicted_tokens.shape[0]):\n",
    "            prob_dist = probs[layer_num]\n",
    "            \n",
    "            \n",
    "            df_dict = make_layer_df(df_dict,\n",
    "                                    layer_num,\n",
    "                                    prob_dist,\n",
    "                                    final_layer_prob,\n",
    "                                    predicted_tokens,\n",
    "                                    target_token\n",
    "                                    )\n",
    "        \n",
    "    df_dict['label'].append(factual_label)\n",
    "    return pd.DataFrame(df_dict)\n",
    "    \n",
    "    \n",
    "def get_summary_layer_info(example, model):\n",
    "    # print(example)\n",
    "    source_len = example['source_len']\n",
    "    summary_len = example['summary_len']\n",
    "    hidden_states = example['hidden_states']\n",
    "    summary_tokens = example['all_tokens'][source_len: source_len + summary_len]\n",
    "    summary_token_labels = example['summary_token_labels']\n",
    "    if source_len.item() == 0:\n",
    "        summary_hidden_states = hidden_states\n",
    "    else:\n",
    "        summary_hidden_states = hidden_states[:, source_len - 1: (source_len + summary_len) - 1, :]\n",
    "    summary_hidden_states = summary_hidden_states.permute(1,0,2) ### we want to iterate of tokens not layers\n",
    "    df_list = []\n",
    "    \n",
    "    for idx, summ_token_hstates in enumerate(summary_hidden_states):\n",
    "        rand_token_id = uuid.uuid4()\n",
    "        target_token = summary_tokens[idx]\n",
    "        target_token_label = summary_token_labels[idx]\n",
    "        \n",
    "        \n",
    "        \n",
    "        \n",
    "        ### hstate 0 is embedding \n",
    "        df_token_layer_info = get_token_layer_info_dict(summ_token_hstates, \n",
    "                                                        target_token = target_token,\n",
    "                                                        factual_label = target_token_label,\n",
    "                                                        model = model)\n",
    "        \n",
    "        df_list.append(df_token_layer_info)\n",
    "        \n",
    "    return pd.concat(df_list)\n",
    "\n",
    "def make_prob_df(folder_path, model):\n",
    "    files = os.listdir(folder_path)\n",
    "    files = sorted(files)\n",
    "    dfs_data = []\n",
    "    all_docids = []\n",
    "    for file_name in tqdm(files):\n",
    "        docid = file_name.split('#')[-1].split('.pt')[0]\n",
    "        if os.path.isfile(os.path.join(folder_path, file_name)):\n",
    "            example = torch.load(os.path.join(folder_path, file_name))\n",
    "            # return example\n",
    "            df_example_dict = get_summary_layer_info(example, model)\n",
    "            all_docids += [docid] * len(df_example_dict)\n",
    "            dfs_data.append(df_example_dict)\n",
    "            # break\n",
    "    dfs_data = pd.concat(dfs_data)\n",
    "    dfs_data['docid'] = all_docids\n",
    "    return dfs_data\n",
    "\n",
    "\n",
    "            "
   ]
  },
  {
   "cell_type": "code",
   "execution_count": 5,
   "id": "c2e315a9-0f4b-4749-bc75-2276fd3a9a91",
   "metadata": {},
   "outputs": [
    {
     "name": "stdout",
     "output_type": "stream",
     "text": [
      "mistral7b\n"
     ]
    },
    {
     "name": "stderr",
     "output_type": "stream",
     "text": [
      "100%|█████████████████████████████████████████████████████████████████████████████████████████████████████████████████████████████████████████████████████████████████████████████████████████████████████████| 62/62 [40:17<00:00, 39.00s/it]\n",
      "/tmp/ipykernel_17707/1801410697.py:152: PerformanceWarning: DataFrame is highly fragmented.  This is usually the result of calling `frame.insert` many times, which has poor performance.  Consider joining all columns at once using pd.concat(axis=1) instead. To get a de-fragmented frame, use `newframe = frame.copy()`\n",
      "  dfs_data['docid'] = all_docids\n"
     ]
    }
   ],
   "source": [
    "# df_data_document_context= make_prob_df('/scratch/ramprasad.sa/probing_summarization_factuality/internal_states/USB/XSUM/llama7b/document_context')\n",
    "print(model_name)\n",
    "df_data_document_context = make_prob_df(f'/scratch/ramprasad.sa/probing_summarization_factuality/internal_states/USB/XSUM/{model_name}/document_context')\n",
    "# example.\n",
    "# df_data_context= make_prob_df('/scratch/ramprasad.sa/probing_summarization_factuality/internal_states/USB/XSUM/falcon7b/context_only')\n",
    "\n",
    "\n"
   ]
  },
  {
   "cell_type": "code",
   "execution_count": 7,
   "id": "ac505faf-c79d-4e74-a975-9086892ce26d",
   "metadata": {},
   "outputs": [],
   "source": [
    "df_data_document_context.to_csv(f'/scratch/ramprasad.sa/probing_summarization_factuality/metric_scores/layer_wise_uncertainty_{model_name}_xsum_document_context.csv')\n"
   ]
  },
  {
   "cell_type": "code",
   "execution_count": 14,
   "id": "3351beb3-3a45-45b9-9510-809fc05211ff",
   "metadata": {},
   "outputs": [
    {
     "data": {
      "text/plain": [
       "0.0006782390992157161"
      ]
     },
     "execution_count": 14,
     "metadata": {},
     "output_type": "execute_result"
    }
   ],
   "source": [
    "max(df_data_document_context['target_prob_layer29'])"
   ]
  },
  {
   "cell_type": "code",
   "execution_count": 15,
   "id": "646de48c-c503-4107-84b1-5bbcb86c1d63",
   "metadata": {},
   "outputs": [],
   "source": [
    "# all_tokens = list(df_data_document_context['layer_token32'].values)\n",
    "# for idx, tok in enumerate(all_tokens):\n",
    "#     print(tokenizer.decode(tok))\n",
    "def get_word_ids(df, \n",
    "                layer_name = 'layer_token32'):\n",
    "    all_tokens = list(df[layer_name].values)\n",
    "\n",
    "    words_idx = []\n",
    "    word_id = 0\n",
    "    for token_idx, token in enumerate(all_tokens):\n",
    "        if token_idx != 0:\n",
    "            prev_token = all_tokens[token_idx - 1]\n",
    "            word = tokenizer.decode([prev_token, token])\n",
    "            if len(word.split(' ')) > 1:\n",
    "                word_id += 1\n",
    "        words_idx.append(word_id)\n",
    "    return words_idx\n",
    "\n",
    "def make_word_boundaries(df):\n",
    "    df_wordidx = []\n",
    "    for unique_docid in list(set(df['docid'].values)):\n",
    "        df_docid = df[df['docid'] == unique_docid]\n",
    "        df_wordidx += get_word_ids(df_docid,\n",
    "                                layer_name = 'layer_token32')\n",
    "    assert(len(df_wordidx) == len(df))\n",
    "    df['word_id'] = df_wordidx\n",
    "    df['primary_key'] = [f\"{row['docid']}_{row['word_id']}\" for idx, row in df.iterrows()]\n",
    "    return df\n"
   ]
  },
  {
   "cell_type": "code",
   "execution_count": 7,
   "id": "ec9332c8-cd3d-4284-bf36-b2df27c73d2d",
   "metadata": {},
   "outputs": [
    {
     "name": "stderr",
     "output_type": "stream",
     "text": [
      "/tmp/ipykernel_30150/4294371539.py:26: PerformanceWarning: DataFrame is highly fragmented.  This is usually the result of calling `frame.insert` many times, which has poor performance.  Consider joining all columns at once using pd.concat(axis=1) instead. To get a de-fragmented frame, use `newframe = frame.copy()`\n",
      "  df['word_id'] = df_wordidx\n",
      "/tmp/ipykernel_30150/4294371539.py:27: PerformanceWarning: DataFrame is highly fragmented.  This is usually the result of calling `frame.insert` many times, which has poor performance.  Consider joining all columns at once using pd.concat(axis=1) instead. To get a de-fragmented frame, use `newframe = frame.copy()`\n",
      "  df['primary_key'] = [f\"{row['docid']}_{row['word_id']}\" for idx, row in df.iterrows()]\n"
     ]
    }
   ],
   "source": [
    "df_data_document_context = make_word_boundaries(df_data_document_context)\n",
    "# df_data_context = make_word_boundaries(df_data_context)\n",
    "# df_data_context.head()[:5]"
   ]
  },
  {
   "cell_type": "code",
   "execution_count": 8,
   "id": "a10be332-dd7c-4517-af6f-37e99e83c843",
   "metadata": {},
   "outputs": [
    {
     "name": "stdout",
     "output_type": "stream",
     "text": [
      "Factual/Nonfactual split 6966 141\n"
     ]
    }
   ],
   "source": [
    "def get_sample(df):\n",
    "    df_sample_nonfactual = df[df['label'] == 1]\n",
    "    print('Factual/Nonfactual split', len(df[df['label'] == 0]), len(df_sample_nonfactual))\n",
    "    df_sample_factual = df[df['label'] == 0].sample(len(df_sample_nonfactual))\n",
    "    df_sample = pd.concat([df_sample_nonfactual, df_sample_factual\n",
    "                                           ])\n",
    "    return df_sample\n",
    "    \n",
    "df_sample_document_context = get_sample(df_data_document_context)\n",
    "# df_sample_context = get_sample(df_data_context)\n",
    "# df_sample_context = df_sample_context[df_sample_context['"
   ]
  },
  {
   "cell_type": "code",
   "execution_count": 9,
   "id": "44a7ddbf-1604-454c-9233-e7019ca56d09",
   "metadata": {},
   "outputs": [
    {
     "data": {
      "image/png": "[encoded data removed]",
      "text/plain": [
       "<Figure size 864x432 with 2 Axes>"
      ]
     },
     "metadata": {
      "needs_background": "light"
     },
     "output_type": "display_data"
    }
   ],
   "source": [
    "import seaborn as sns\n",
    "import matplotlib.pyplot as plt\n",
    "\n",
    "fig, axes = plt.subplots(2, 1, figsize=(12, 6))\n",
    "\n",
    "sns.histplot(df_data_document_context[df_data_document_context['label'] == 0]['layer_prob32'],  \n",
    "             label='Factual Class',\n",
    "            ax = axes[0],\n",
    "            color='green')\n",
    "# sns.histplot(df_sample_document_context[df_sample_document_context['label'] == 1]['layer_prob32'],  \n",
    "#              label='Nonfactual Class',\n",
    "#             ax = axes[1],\n",
    "#             color='red')\n",
    "\n",
    "# sns.distplot(df_sample_document_context[df_sample_document_context['label'] == 1]['layer_prob32'], \n",
    "#              kde=True, \n",
    "#              label='Factual Class',\n",
    "#             ax = axes[1],\n",
    "#             kde_kws={'bw_method': 0.2, 'common_norm': True})\n",
    "plt.tight_layout()\n",
    "plt.ylim(0, 100)\n",
    "plt.xlim(0, 1)\n",
    "# Show plot\n",
    "plt.show()"
   ]
  },
  {
   "cell_type": "code",
   "execution_count": 10,
   "id": "3d6c4d74-cbb6-4bcb-a559-5b7c3551810f",
   "metadata": {},
   "outputs": [
    {
     "ename": "SyntaxError",
     "evalue": "invalid syntax (3033602285.py, line 1)",
     "output_type": "error",
     "traceback": [
      "\u001b[0;36m  Cell \u001b[0;32mIn[10], line 1\u001b[0;36m\u001b[0m\n\u001b[0;31m    for unique_docid in\u001b[0m\n\u001b[0m                        ^\u001b[0m\n\u001b[0;31mSyntaxError\u001b[0m\u001b[0;31m:\u001b[0m invalid syntax\n"
     ]
    }
   ],
   "source": [
    "for unique_docid in "
   ]
  },
  {
   "cell_type": "code",
   "execution_count": null,
   "id": "89dda8b4-3dd2-4381-89e0-3a63ca70d4db",
   "metadata": {},
   "outputs": [],
   "source": []
  }
 ],
 "metadata": {
  "kernelspec": {
   "display_name": "Python (probe)",
   "language": "python",
   "name": "probe"
  },
  "language_info": {
   "codemirror_mode": {
    "name": "ipython",
    "version": 3
   },
   "file_extension": ".py",
   "mimetype": "text/x-python",
   "name": "python",
   "nbconvert_exporter": "python",
   "pygments_lexer": "ipython3",
   "version": "3.8.18"
  }
 },
 "nbformat": 4,
 "nbformat_minor": 5
}
