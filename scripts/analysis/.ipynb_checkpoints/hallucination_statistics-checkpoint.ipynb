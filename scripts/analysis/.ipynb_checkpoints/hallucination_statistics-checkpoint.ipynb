{
 "cells": [
  {
   "cell_type": "code",
   "execution_count": 25,
   "id": "47281565",
   "metadata": {},
   "outputs": [],
   "source": [
    "import torch\n",
    "import os \n",
    "import uuid\n",
    "import pandas as pd\n",
    "import torch.nn.functional as F\n",
    "from scripts.utils import load_model\n",
    "from tqdm import tqdm"
   ]
  },
  {
   "cell_type": "code",
   "execution_count": 34,
   "id": "ecd78b68",
   "metadata": {},
   "outputs": [],
   "source": [
    "import re\n",
    "import nltk\n",
    "import spacy \n",
    "\n",
    "nlp_model = spacy.load('en_core_web_sm')\n",
    "\n",
    "def find_sent_index(document, span):\n",
    "    sentences = [sent.text for sent in nlp_model(document).sents]\n",
    "    for sent_idx, sent in enumerate(sentences):\n",
    "        if span in sent: \n",
    "            return sent_idx\n",
    "            \n",
    "\n",
    "def get_spacy_tokenization(doc):\n",
    "    res_doc = nlp_model(doc)\n",
    "    res_doc_tokens = [token.text for token in res_doc]\n",
    "    res_doc_whitespaces = [token.whitespace_ for token in res_doc]\n",
    "    res_doc_pos = [token.pos_ for token in res_doc]\n",
    "    return res_doc_tokens, res_doc_whitespaces, res_doc_pos\n",
    "\n",
    "def find_first_word_index(document, span):\n",
    "    res_document_tokens, res_document_whitespaces, res_document_pos = get_spacy_tokenization(document)\n",
    "    res_span_tokens, res_span_whitespaces, res_span_pos = get_spacy_tokenization(span)\n",
    "    \n",
    "    match_idx = -1\n",
    "    for idx, doc_token in enumerate(res_document_tokens):\n",
    "        if doc_token == res_span_tokens[0]:\n",
    "            candidate_tokens = res_document_tokens[idx : idx + len(res_span_tokens)]\n",
    "            candidate_whitespace = res_document_whitespaces[idx: idx + len(res_span_tokens)]\n",
    "            candidate_span = ''.join([tok + spc for tok, spc in list(zip(candidate_tokens, candidate_whitespace))])\n",
    "#             print(candidate_span)\n",
    "            if candidate_span == span:\n",
    "                match_idx = idx\n",
    "                break\n",
    "    pos_prefix = None\n",
    "    if match_idx != -1:         \n",
    "        pos_prefix = '_'.join(res_document_pos[match_idx-2 : match_idx + 1])\n",
    "    return match_idx, pos_prefix\n",
    "    \n",
    "\n",
    "def append_row(df,\n",
    "               append_dict):\n",
    "    for column_key, column_val in append_dict.items():\n",
    "        df[column_key] += [column_val]\n",
    "    return df\n",
    "               \n",
    "\n",
    "def make_data_statistics(df_usb):\n",
    "    hallucination_word_idx = []\n",
    "    hallucination_sent_idx = []\n",
    "    hallucination_pos_percent = []\n",
    "    hallucination_count = []\n",
    "    doc_length = []\n",
    "\n",
    "    df_analysis = {\n",
    "        'source': [],\n",
    "        'summary': [],\n",
    "        'model': [],\n",
    "        'origin': [],\n",
    "        'nonfactual_span': [],\n",
    "        'hallucination_count': [],\n",
    "        'hallucination_spn_idx': [],\n",
    "        'hallucination_word_idx': [],\n",
    "        'hallucination_pos_perc': [],\n",
    "        'hallucination_sent_idx': [],\n",
    "        'hallucination_sent_perc': [],\n",
    "        'hallucinaton_prefix': [],\n",
    "        'doc_length': [],\n",
    "    }\n",
    "    \n",
    "    append_dict = {k : None for k in df_analysis.keys()}\n",
    "    for idx, row in df_usb.iterrows():\n",
    "        append_dict['source'] = row['source']\n",
    "        append_dict['summary'] = row['summary']\n",
    "        append_dict['model'] = row['model']\n",
    "        append_dict['origin'] = row['origin']\n",
    "        \n",
    "        doc_length = len(re.findall(r'\\b\\w+\\b', doc))\n",
    "        append_dict['doc_length'] = doc_length\n",
    "        annotated_spans = row['annotated_spans'].split('<sep>') if type(row['annotated_spans']) is str else []\n",
    "        \n",
    "        if not annotated_spans:\n",
    "            append_dict['hallucination_count'] = 0\n",
    "            df_analysis = append_row(df_analysis, append_dict)\n",
    "            \n",
    "        else:\n",
    "            for spn_idx, spn in enumerate(annotated_spans):\n",
    "            \n",
    "                spn_summ_word_idx, spn_pos_prefix = find_first_word_index(summ, spn)\n",
    "                spn_summ_sent_idx = find_sent_index(summ, spn)\n",
    "                \n",
    "                if spn_summ_word_idx > -1:\n",
    "                    if (spn_summ_sent_idx == None):\n",
    "                        print(spn_summ_word_idx, spn_summ_sent_idx)\n",
    "                        print(spn)\n",
    "                        print([sent.text for sent in nlp_model(summ).sents])\n",
    "    \n",
    "                    else:\n",
    "                        spn_summ_pos_percent = spn_summ_word_idx/len(re.findall(r'\\b\\w+\\b', summ))\n",
    "                        spn_summ_sent_percent = spn_summ_sent_idx/len([sent.text for sent in nlp_model(summ).sents])\n",
    "                        append_dict['nonfactual_span'] = spn\n",
    "                        append_dict['hallucination_spn_idx'] = spn_idx\n",
    "                        append_dict['hallucination_word_idx'] = spn_summ_word_idx\n",
    "                        append_dict['hallucination_pos_perc'] = round(spn_summ_pos_percent * 100)\n",
    "                        append_dict['hallucination_sent_idx'] = spn_summ_sent_idx\n",
    "                        append_dict['hallucination_sent_perc'] = round(spn_summ_sent_percent * 100)\n",
    "                        append_dict['hallucination_count'] = len(annotated_spans)\n",
    "                        append_dict['hallucinaton_prefix'] = spn_pos_prefix\n",
    "                        df_analysis = append_row(df_analysis, append_dict)\n",
    "                        \n",
    "                        # df_analysis['hallucination_spn_idx'] += [spn_idx]\n",
    "                        # df_analysis['hallucination_word_idx'] += [spn_summ_word_idx]\n",
    "                        # df_analysis['hallucination_pos_perc'] += [round(spn_summ_pos_percent * 100)]\n",
    "                        # df_analysis['hallucination_sent_idx'] += [spn_summ_sent_idx]\n",
    "                        # df_analysis['hallucination_sent_perc'] += [round(spn_summ_sent_percent * 100)]\n",
    "                        # df_analysis['hallucination_count'] += [len(annotated_spans)]\n",
    "                        # df_analysis['hallucinaton_prefix'] += [spn_pos_prefix]\n",
    "                        # df_analysis['doc_length'] += [doc_length]\n",
    "    \n",
    "    \n",
    "    df_analysis = pd.DataFrame(df_analysis)\n",
    "    return df_analysis"
   ]
  },
  {
   "cell_type": "code",
   "execution_count": 35,
   "id": "02117e8a-a20b-4a56-b007-a4777bf8dbf7",
   "metadata": {},
   "outputs": [
    {
     "name": "stdout",
     "output_type": "stream",
     "text": [
      "MODELS {'falcon7b', 'llama7b', 'llama70b', 'mistral7b', 'flanul2'}\n",
      "DATASETS {'ACIBENCH', 'XSUM'}\n"
     ]
    },
    {
     "data": {
      "text/html": [
       "<div>\n",
       "<style scoped>\n",
       "    .dataframe tbody tr th:only-of-type {\n",
       "        vertical-align: middle;\n",
       "    }\n",
       "\n",
       "    .dataframe tbody tr th {\n",
       "        vertical-align: top;\n",
       "    }\n",
       "\n",
       "    .dataframe thead th {\n",
       "        text-align: right;\n",
       "    }\n",
       "</style>\n",
       "<table border=\"1\" class=\"dataframe\">\n",
       "  <thead>\n",
       "    <tr style=\"text-align: right;\">\n",
       "      <th></th>\n",
       "      <th>Unnamed: 0</th>\n",
       "      <th>id</th>\n",
       "      <th>source</th>\n",
       "      <th>summary</th>\n",
       "      <th>annotated_spans</th>\n",
       "      <th>model</th>\n",
       "      <th>origin</th>\n",
       "    </tr>\n",
       "  </thead>\n",
       "  <tbody>\n",
       "    <tr>\n",
       "      <th>1</th>\n",
       "      <td>1</td>\n",
       "      <td>Cynthia Lamanda#XSUM-34443723#1701418173:mistr...</td>\n",
       "      <td>The case against two men accused of stealing £...</td>\n",
       "      <td>The document discusses a case where two men fr...</td>\n",
       "      <td>NaN</td>\n",
       "      <td>mistral7b</td>\n",
       "      <td>XSUM</td>\n",
       "    </tr>\n",
       "  </tbody>\n",
       "</table>\n",
       "</div>"
      ],
      "text/plain": [
       "   Unnamed: 0                                                 id  \\\n",
       "1           1  Cynthia Lamanda#XSUM-34443723#1701418173:mistr...   \n",
       "\n",
       "                                              source  \\\n",
       "1  The case against two men accused of stealing £...   \n",
       "\n",
       "                                             summary annotated_spans  \\\n",
       "1  The document discusses a case where two men fr...             NaN   \n",
       "\n",
       "       model origin  \n",
       "1  mistral7b   XSUM  "
      ]
     },
     "execution_count": 35,
     "metadata": {},
     "output_type": "execute_result"
    }
   ],
   "source": [
    "df_usb = pd.read_csv('/home/ramprasad.sa/probing_summarization_factuality/datasets/USB_annotations.csv')\n",
    "\n",
    "print('MODELS', set(df_usb['model'].values))\n",
    "print('DATASETS', set(df_usb['origin'].values))\n",
    "\n",
    "### Decoder only models\n",
    "df_usb = df_usb[df_usb['model'] != 'flanul2']\n",
    "df_usb = df_usb[~df_usb['source'].isnull()]\n",
    "df_usb.head()[:1]"
   ]
  },
  {
   "cell_type": "code",
   "execution_count": 36,
   "id": "973f7ef5",
   "metadata": {},
   "outputs": [
    {
     "name": "stdout",
     "output_type": "stream",
     "text": [
      "127 None\n",
      "and will\n",
      "[\"The document discusses a patient's chronic lower back pain and their attempt to seek medical treatment..\", \"The doctor asks about the patient's medical history, symptoms, and attempts at physical therapy and pain medications..\", 'The patient reports that the pain started after they moved furniture and feels like a sharp stabbing pain in their back with numbness and tingling in their right leg..', 'The patient also reports difficulty sitting and being comfortable..', 'The doctor performs a physical exam and orders an MRI, which reveals a herniated disk with nerve impingement..', 'The doctor recommends a spinal injection with a corticosteroid to reduce inflammation and relieve pain..', 'The patient is told that the procedure is relatively quick and common and', 'will']\n",
      "127 None\n",
      "and will\n",
      "[\"The document discusses a patient's chronic lower back pain and their attempt to seek medical treatment..\", \"The doctor asks about the patient's medical history, symptoms, and attempts at physical therapy and pain medications..\", 'The patient reports that the pain started after they moved furniture and feels like a sharp stabbing pain in their back with numbness and tingling in their right leg..', 'The patient also reports difficulty sitting and being comfortable..', 'The doctor performs a physical exam and orders an MRI, which reveals a herniated disk with nerve impingement..', 'The doctor recommends a spinal injection with a corticosteroid to reduce inflammation and relieve pain..', 'The patient is told that the procedure is relatively quick and common and', 'will']\n"
     ]
    }
   ],
   "source": [
    "df_usb_analysis = make_data_statistics(df_usb)"
   ]
  },
  {
   "cell_type": "code",
   "execution_count": 37,
   "id": "f3f97966-4203-4802-8df1-16d20dac1675",
   "metadata": {},
   "outputs": [
    {
     "data": {
      "text/html": [
       "<div>\n",
       "<style scoped>\n",
       "    .dataframe tbody tr th:only-of-type {\n",
       "        vertical-align: middle;\n",
       "    }\n",
       "\n",
       "    .dataframe tbody tr th {\n",
       "        vertical-align: top;\n",
       "    }\n",
       "\n",
       "    .dataframe thead th {\n",
       "        text-align: right;\n",
       "    }\n",
       "</style>\n",
       "<table border=\"1\" class=\"dataframe\">\n",
       "  <thead>\n",
       "    <tr style=\"text-align: right;\">\n",
       "      <th></th>\n",
       "      <th>source</th>\n",
       "      <th>summary</th>\n",
       "      <th>model</th>\n",
       "      <th>origin</th>\n",
       "      <th>nonfactual_span</th>\n",
       "      <th>hallucination_count</th>\n",
       "      <th>hallucination_spn_idx</th>\n",
       "      <th>hallucination_word_idx</th>\n",
       "      <th>hallucination_pos_perc</th>\n",
       "      <th>hallucination_sent_idx</th>\n",
       "      <th>hallucination_sent_perc</th>\n",
       "      <th>hallucinaton_prefix</th>\n",
       "      <th>doc_length</th>\n",
       "    </tr>\n",
       "  </thead>\n",
       "  <tbody>\n",
       "    <tr>\n",
       "      <th>0</th>\n",
       "      <td>The case against two men accused of stealing £...</td>\n",
       "      <td>On 17 June, a trailer containing biscuits wort...</td>\n",
       "      <td>falcon7b</td>\n",
       "      <td>XSUM</td>\n",
       "      <td>the same day</td>\n",
       "      <td>1</td>\n",
       "      <td>0</td>\n",
       "      <td>36</td>\n",
       "      <td>97</td>\n",
       "      <td>1</td>\n",
       "      <td>50</td>\n",
       "      <td>NOUN_ADP_DET</td>\n",
       "      <td>76</td>\n",
       "    </tr>\n",
       "  </tbody>\n",
       "</table>\n",
       "</div>"
      ],
      "text/plain": [
       "                                              source  \\\n",
       "0  The case against two men accused of stealing £...   \n",
       "\n",
       "                                             summary     model origin  \\\n",
       "0  On 17 June, a trailer containing biscuits wort...  falcon7b   XSUM   \n",
       "\n",
       "  nonfactual_span  hallucination_count  hallucination_spn_idx  \\\n",
       "0    the same day                    1                      0   \n",
       "\n",
       "   hallucination_word_idx  hallucination_pos_perc  hallucination_sent_idx  \\\n",
       "0                      36                      97                       1   \n",
       "\n",
       "   hallucination_sent_perc hallucinaton_prefix  doc_length  \n",
       "0                       50        NOUN_ADP_DET          76  "
      ]
     },
     "execution_count": 37,
     "metadata": {},
     "output_type": "execute_result"
    }
   ],
   "source": [
    "df_usb_analysis.head()[:1]"
   ]
  },
  {
   "cell_type": "code",
   "execution_count": 56,
   "id": "274b9db7-bd75-4538-ac87-7bca44207cdb",
   "metadata": {},
   "outputs": [],
   "source": [
    "import seaborn as sns\n",
    "import matplotlib.pyplot as plt\n",
    "\n",
    "\n",
    "def plot_hist_positions(df, \n",
    "                        pos_key,\n",
    "                       xlabel,\n",
    "                       ylabel,\n",
    "                       title):\n",
    "    # Create subplots\n",
    "    fig, axes = plt.subplots(1, 2, figsize=(10, 4))\n",
    "    \n",
    "    # Iterate over origins\n",
    "    for i, origin in enumerate(list(set(df['origin'].values))):\n",
    "        df_origin = df[df['origin'] == origin]\n",
    "        \n",
    "        # Create histogram plot\n",
    "        sns.histplot(df_origin[pos_key], bins=5, kde=True, color='skyblue', ax=axes[i])\n",
    "    #     sns.kdeplot(df_origin['hallucination_pos_perc'], color='skyblue', ax=axes[i], fill=True)\n",
    "    \n",
    "        # Add labels and title\n",
    "        axes[i].set_xlabel(xlabel)\n",
    "        axes[i].set_ylabel(ylabel)\n",
    "        axes[i].set_title(origin)\n",
    "    \n",
    "    # Adjust layout\n",
    "    fig.suptitle(title)\n",
    "    plt.tight_layout()\n",
    "    \n",
    "    # Show plots\n",
    "    plt.show()"
   ]
  },
  {
   "cell_type": "code",
   "execution_count": 59,
   "id": "d66094e3-6cfb-4faa-8971-299528a6aa83",
   "metadata": {},
   "outputs": [
    {
     "data": {
      "image/png": "[encoded data removed]",
      "text/plain": [
       "<Figure size 720x288 with 2 Axes>"
      ]
     },
     "metadata": {
      "needs_background": "light"
     },
     "output_type": "display_data"
    },
    {
     "data": {
      "image/png": "[encoded data removed]",
      "text/plain": [
       "<Figure size 720x288 with 2 Axes>"
      ]
     },
     "metadata": {
      "needs_background": "light"
     },
     "output_type": "display_data"
    }
   ],
   "source": [
    "df_first_hallucination = df_usb_analysis[df_usb_analysis['hallucination_spn_idx'] == 0]\n",
    "\n",
    "plot_hist_positions(df_first_hallucination,\n",
    "                    pos_key = 'hallucination_pos_perc',\n",
    "                    xlabel = 'Relative word position of hallucinated span in summary (%)',\n",
    "                    ylabel = 'Density',\n",
    "                    title = 'Distribution of Relative Word Position of First Hallucinated Span encountered in a Summary')\n",
    "\n",
    "df_second_hallucination = df_usb_analysis[df_usb_analysis['hallucination_spn_idx'] != 0]\n",
    "\n",
    "plot_hist_positions(df_second_hallucination,\n",
    "                    pos_key = 'hallucination_pos_perc',\n",
    "                    xlabel = 'Relative word position of hallucinated span in summary (%)',\n",
    "                    ylabel = 'Density',\n",
    "                    title = 'Distribution of Relative word Position of Consecutive Hallucinated Span encountered in a Summary')\n",
    "\n",
    "\n",
    "\n",
    "# plot_hist_positions(df_first_hallucination,\n",
    "#                     pos_key = 'hallucination_sent_perc',\n",
    "#                     xlabel = 'Relative word position of hallucinated span in summary (%)',\n",
    "#                     ylabel = 'Density',\n",
    "#                     title = 'Distribution of Relative Sentence Position of First Hallucinated Span encountered in a Summary')\n",
    "\n"
   ]
  },
  {
   "cell_type": "code",
   "execution_count": 58,
   "id": "4f7911e4-5296-4553-b9d2-616ea2ae143c",
   "metadata": {},
   "outputs": [
    {
     "data": {
      "image/png": "[encoded data removed]",
      "text/plain": [
       "<Figure size 720x288 with 2 Axes>"
      ]
     },
     "metadata": {
      "needs_background": "light"
     },
     "output_type": "display_data"
    },
    {
     "data": {
      "image/png": "[encoded data removed]",
      "text/plain": [
       "<Figure size 720x288 with 2 Axes>"
      ]
     },
     "metadata": {
      "needs_background": "light"
     },
     "output_type": "display_data"
    }
   ],
   "source": [
    "df_first_hallucination = df_usb_analysis[df_usb_analysis['hallucination_spn_idx'] == 0]\n",
    "\n",
    "plot_hist_positions(df_first_hallucination,\n",
    "                    pos_key = 'hallucination_sent_perc',\n",
    "                    xlabel = 'Relative sentence position of hallucinated span in summary (%)',\n",
    "                    ylabel = 'Density',\n",
    "                    title = 'Distribution of Relative sentence Position of First Hallucinated Span encountered in a Summary')\n",
    "\n",
    "df_second_hallucination = df_usb_analysis[df_usb_analysis['hallucination_spn_idx'] != 0]\n",
    "\n",
    "plot_hist_positions(df_second_hallucination,\n",
    "                    pos_key = 'hallucination_sent_perc',\n",
    "                    xlabel = 'Relative sentence position of hallucinated span in summary (%)',\n",
    "                    ylabel = 'Density',\n",
    "                    title = 'Distribution of Relative sentence Position of Consecutive Hallucinated Span encountered in a Summary')\n",
    "\n",
    "\n",
    "\n",
    "# plot_hist_positions(df_first_hallucination,\n",
    "#                     pos_key = 'hallucination_sent_perc',\n",
    "#                     xlabel = 'Relative word position of hallucinated span in summary (%)',\n",
    "#                     ylabel = 'Density',\n",
    "#                     title = 'Distribution of Relative Sentence Position of First Hallucinated Span encountered in a Summary')\n",
    "\n"
   ]
  },
  {
   "cell_type": "code",
   "execution_count": 60,
   "id": "9b621e09",
   "metadata": {},
   "outputs": [],
   "source": [
    "doc_length_boundary = [i for i in range(300, 1800, 300)]"
   ]
  },
  {
   "cell_type": "code",
   "execution_count": 61,
   "id": "08ab177d",
   "metadata": {},
   "outputs": [
    {
     "data": {
      "text/plain": [
       "[300, 600, 900, 1200, 1500]"
      ]
     },
     "execution_count": 61,
     "metadata": {},
     "output_type": "execute_result"
    }
   ],
   "source": [
    "doc_length_boundary"
   ]
  },
  {
   "cell_type": "code",
   "execution_count": 67,
   "id": "3ef9bcca",
   "metadata": {},
   "outputs": [
    {
     "name": "stdout",
     "output_type": "stream",
     "text": [
      "ACIBENCH\n",
      "XSUM\n",
      "ACIBENCH\n",
      "XSUM\n",
      "ACIBENCH\n",
      "XSUM\n",
      "ACIBENCH\n",
      "XSUM\n",
      "ACIBENCH\n",
      "XSUM\n"
     ]
    }
   ],
   "source": [
    "doc_length_stats = { 'doc_length': [],\n",
    "                   'over_one_hallucination': [],\n",
    "                   'origin': []}\n",
    "\n",
    "### more chances of hallucination as doc length increases -- ? \n",
    "\n",
    "### \n",
    "for origin in \n",
    "for idx, doc_boundary in enumerate(doc_length_boundary):\n",
    "    for origin in list(set(df_analysis['origin'])):\n",
    "        print(origin)\n",
    "        df_analysis_docs = df_analysis[df_analysis['doc_length'] < doc_boundary]\n",
    "        if idx > 0:\n",
    "            df_analysis_docs = df_analysis_docs[df_analysis_docs['doc_length'] > doc_length_boundary[idx - 1]]\n",
    "        df_analysis_docs = df_analysis_docs[df_analysis_docs['origin'] == origin]\n",
    "        # if len(df_analysis_docs):\n",
    "        #     if idx > 0:\n",
    "        #         df_analysis_docs = df_analysis_docs[df_analysis_docs['doc_length'] > doc_length_boundary[idx - 1]]\n",
    "        #     df_analysis_docs = df_analysis_docs[df_analysis_docs['hallucination_spn_idx']  == 0]\n",
    "#             over_one_hallucination = df_analysis_docs[df_analysis_docs['hallucination_spn_idx']  == 0]\n",
    "#             doc_length_stats['doc_length'] += [f'<{doc_boundary}']\n",
    "#             doc_length_stats['over_one_hallucination'] += [len(over_one_hallucination)/len(df_analysis_docs)]\n",
    "#             doc_length_stats['origin'] += [origin]\n",
    "# #     print(doc_boundary, len(df_analysis_docs), len(over_one_hallucination)/len(df_analysis_docs))"
   ]
  },
  {
   "cell_type": "code",
   "execution_count": 68,
   "id": "fa50367f-fc26-41e3-8fd3-7720bcef81db",
   "metadata": {},
   "outputs": [
    {
     "data": {
      "text/html": [
       "<div>\n",
       "<style scoped>\n",
       "    .dataframe tbody tr th:only-of-type {\n",
       "        vertical-align: middle;\n",
       "    }\n",
       "\n",
       "    .dataframe tbody tr th {\n",
       "        vertical-align: top;\n",
       "    }\n",
       "\n",
       "    .dataframe thead th {\n",
       "        text-align: right;\n",
       "    }\n",
       "</style>\n",
       "<table border=\"1\" class=\"dataframe\">\n",
       "  <thead>\n",
       "    <tr style=\"text-align: right;\">\n",
       "      <th></th>\n",
       "      <th>source</th>\n",
       "      <th>summary</th>\n",
       "      <th>model</th>\n",
       "      <th>origin</th>\n",
       "      <th>nonfactual_span</th>\n",
       "      <th>hallucination_count</th>\n",
       "      <th>hallucination_spn_idx</th>\n",
       "      <th>hallucination_word_idx</th>\n",
       "      <th>hallucination_pos_perc</th>\n",
       "      <th>hallucination_sent_idx</th>\n",
       "      <th>hallucinaton_prefix</th>\n",
       "      <th>doc_length</th>\n",
       "    </tr>\n",
       "  </thead>\n",
       "  <tbody>\n",
       "    <tr>\n",
       "      <th>71</th>\n",
       "      <td>England failed to build on the optimism genera...</td>\n",
       "      <td>The document discusses England's loss to the N...</td>\n",
       "      <td>mistral7b</td>\n",
       "      <td>XSUM</td>\n",
       "      <td>in London</td>\n",
       "      <td>3</td>\n",
       "      <td>0</td>\n",
       "      <td>21</td>\n",
       "      <td>18</td>\n",
       "      <td>0</td>\n",
       "      <td>PROPN_PROPN_ADP</td>\n",
       "      <td>1319</td>\n",
       "    </tr>\n",
       "    <tr>\n",
       "      <th>72</th>\n",
       "      <td>England failed to build on the optimism genera...</td>\n",
       "      <td>The document discusses England's loss to the N...</td>\n",
       "      <td>mistral7b</td>\n",
       "      <td>XSUM</td>\n",
       "      <td>St</td>\n",
       "      <td>3</td>\n",
       "      <td>2</td>\n",
       "      <td>130</td>\n",
       "      <td>113</td>\n",
       "      <td>0</td>\n",
       "      <td>PUNCT_PROPN_PROPN</td>\n",
       "      <td>1319</td>\n",
       "    </tr>\n",
       "    <tr>\n",
       "      <th>73</th>\n",
       "      <td>England failed to build on the optimism genera...</td>\n",
       "      <td>England was defeated by the Netherlands 2-1 in...</td>\n",
       "      <td>llama70b</td>\n",
       "      <td>XSUM</td>\n",
       "      <td>in the 44th minute</td>\n",
       "      <td>3</td>\n",
       "      <td>0</td>\n",
       "      <td>25</td>\n",
       "      <td>26</td>\n",
       "      <td>1</td>\n",
       "      <td>PROPN_NOUN_ADP</td>\n",
       "      <td>1319</td>\n",
       "    </tr>\n",
       "    <tr>\n",
       "      <th>74</th>\n",
       "      <td>England failed to build on the optimism genera...</td>\n",
       "      <td>England was defeated by the Netherlands 2-1 in...</td>\n",
       "      <td>llama70b</td>\n",
       "      <td>XSUM</td>\n",
       "      <td>in the 82nd minute</td>\n",
       "      <td>3</td>\n",
       "      <td>1</td>\n",
       "      <td>53</td>\n",
       "      <td>55</td>\n",
       "      <td>2</td>\n",
       "      <td>DET_PROPN_ADP</td>\n",
       "      <td>1319</td>\n",
       "    </tr>\n",
       "    <tr>\n",
       "      <th>75</th>\n",
       "      <td>England failed to build on the optimism genera...</td>\n",
       "      <td>England was defeated by the Netherlands 2-1 in...</td>\n",
       "      <td>llama70b</td>\n",
       "      <td>XSUM</td>\n",
       "      <td>with several young players getting a chance to...</td>\n",
       "      <td>3</td>\n",
       "      <td>2</td>\n",
       "      <td>76</td>\n",
       "      <td>78</td>\n",
       "      <td>3</td>\n",
       "      <td>PROPN_PUNCT_ADP</td>\n",
       "      <td>1319</td>\n",
       "    </tr>\n",
       "    <tr>\n",
       "      <th>76</th>\n",
       "      <td>England failed to build on the optimism genera...</td>\n",
       "      <td>The Netherlands needed a stoppage-time goal to...</td>\n",
       "      <td>falcon7b</td>\n",
       "      <td>XSUM</td>\n",
       "      <td>and Van Persie's goal four minutes later broug...</td>\n",
       "      <td>6</td>\n",
       "      <td>4</td>\n",
       "      <td>79</td>\n",
       "      <td>69</td>\n",
       "      <td>3</td>\n",
       "      <td>NUM_NOUN_CCONJ</td>\n",
       "      <td>1319</td>\n",
       "    </tr>\n",
       "    <tr>\n",
       "      <th>77</th>\n",
       "      <td>England failed to build on the optimism genera...</td>\n",
       "      <td>The Netherlands needed a stoppage-time goal to...</td>\n",
       "      <td>falcon7b</td>\n",
       "      <td>XSUM</td>\n",
       "      <td>and a number of saves by their goalkeeper Kees...</td>\n",
       "      <td>6</td>\n",
       "      <td>5</td>\n",
       "      <td>106</td>\n",
       "      <td>92</td>\n",
       "      <td>4</td>\n",
       "      <td>ADJ_NOUN_CCONJ</td>\n",
       "      <td>1319</td>\n",
       "    </tr>\n",
       "    <tr>\n",
       "      <th>78</th>\n",
       "      <td>England failed to build on the optimism genera...</td>\n",
       "      <td>England were beaten by the Netherlands in a fr...</td>\n",
       "      <td>llama7b</td>\n",
       "      <td>XSUM</td>\n",
       "      <td>D3 L3</td>\n",
       "      <td>2</td>\n",
       "      <td>1</td>\n",
       "      <td>61</td>\n",
       "      <td>105</td>\n",
       "      <td>2</td>\n",
       "      <td>PROPN_PUNCT_PROPN</td>\n",
       "      <td>1319</td>\n",
       "    </tr>\n",
       "    <tr>\n",
       "      <th>162</th>\n",
       "      <td>England failed to build on the optimism genera...</td>\n",
       "      <td>The document discusses England's loss to the N...</td>\n",
       "      <td>mistral7b</td>\n",
       "      <td>XSUM</td>\n",
       "      <td>in London</td>\n",
       "      <td>5</td>\n",
       "      <td>0</td>\n",
       "      <td>21</td>\n",
       "      <td>18</td>\n",
       "      <td>0</td>\n",
       "      <td>PROPN_PROPN_ADP</td>\n",
       "      <td>1319</td>\n",
       "    </tr>\n",
       "    <tr>\n",
       "      <th>163</th>\n",
       "      <td>England failed to build on the optimism genera...</td>\n",
       "      <td>The document discusses England's loss to the N...</td>\n",
       "      <td>mistral7b</td>\n",
       "      <td>XSUM</td>\n",
       "      <td>friendly</td>\n",
       "      <td>5</td>\n",
       "      <td>1</td>\n",
       "      <td>33</td>\n",
       "      <td>29</td>\n",
       "      <td>0</td>\n",
       "      <td>PRON_ADJ_ADJ</td>\n",
       "      <td>1319</td>\n",
       "    </tr>\n",
       "    <tr>\n",
       "      <th>164</th>\n",
       "      <td>England failed to build on the optimism genera...</td>\n",
       "      <td>The document discusses England's loss to the N...</td>\n",
       "      <td>mistral7b</td>\n",
       "      <td>XSUM</td>\n",
       "      <td>St</td>\n",
       "      <td>5</td>\n",
       "      <td>4</td>\n",
       "      <td>130</td>\n",
       "      <td>113</td>\n",
       "      <td>0</td>\n",
       "      <td>PUNCT_PROPN_PROPN</td>\n",
       "      <td>1319</td>\n",
       "    </tr>\n",
       "    <tr>\n",
       "      <th>165</th>\n",
       "      <td>England failed to build on the optimism genera...</td>\n",
       "      <td>England was defeated by the Netherlands 2-1 in...</td>\n",
       "      <td>llama70b</td>\n",
       "      <td>XSUM</td>\n",
       "      <td>through a Vincent Janssen penalty</td>\n",
       "      <td>4</td>\n",
       "      <td>1</td>\n",
       "      <td>38</td>\n",
       "      <td>39</td>\n",
       "      <td>1</td>\n",
       "      <td>ADJ_NOUN_ADP</td>\n",
       "      <td>1319</td>\n",
       "    </tr>\n",
       "    <tr>\n",
       "      <th>166</th>\n",
       "      <td>England failed to build on the optimism genera...</td>\n",
       "      <td>England was defeated by the Netherlands 2-1 in...</td>\n",
       "      <td>llama70b</td>\n",
       "      <td>XSUM</td>\n",
       "      <td>in the 82nd minute</td>\n",
       "      <td>4</td>\n",
       "      <td>2</td>\n",
       "      <td>53</td>\n",
       "      <td>55</td>\n",
       "      <td>2</td>\n",
       "      <td>DET_PROPN_ADP</td>\n",
       "      <td>1319</td>\n",
       "    </tr>\n",
       "    <tr>\n",
       "      <th>167</th>\n",
       "      <td>England failed to build on the optimism genera...</td>\n",
       "      <td>England was defeated by the Netherlands 2-1 in...</td>\n",
       "      <td>llama70b</td>\n",
       "      <td>XSUM</td>\n",
       "      <td>with several young players getting a chance to...</td>\n",
       "      <td>4</td>\n",
       "      <td>3</td>\n",
       "      <td>76</td>\n",
       "      <td>78</td>\n",
       "      <td>3</td>\n",
       "      <td>PROPN_PUNCT_ADP</td>\n",
       "      <td>1319</td>\n",
       "    </tr>\n",
       "    <tr>\n",
       "      <th>168</th>\n",
       "      <td>England failed to build on the optimism genera...</td>\n",
       "      <td>The Netherlands needed a stoppage-time goal to...</td>\n",
       "      <td>falcon7b</td>\n",
       "      <td>XSUM</td>\n",
       "      <td>and Van Persie's goal four minutes later broug...</td>\n",
       "      <td>6</td>\n",
       "      <td>4</td>\n",
       "      <td>79</td>\n",
       "      <td>69</td>\n",
       "      <td>3</td>\n",
       "      <td>NUM_NOUN_CCONJ</td>\n",
       "      <td>1319</td>\n",
       "    </tr>\n",
       "    <tr>\n",
       "      <th>169</th>\n",
       "      <td>England failed to build on the optimism genera...</td>\n",
       "      <td>The Netherlands needed a stoppage-time goal to...</td>\n",
       "      <td>falcon7b</td>\n",
       "      <td>XSUM</td>\n",
       "      <td>and a number of saves by their goalkeeper Kees...</td>\n",
       "      <td>6</td>\n",
       "      <td>5</td>\n",
       "      <td>106</td>\n",
       "      <td>92</td>\n",
       "      <td>4</td>\n",
       "      <td>ADJ_NOUN_CCONJ</td>\n",
       "      <td>1319</td>\n",
       "    </tr>\n",
       "    <tr>\n",
       "      <th>170</th>\n",
       "      <td>England failed to build on the optimism genera...</td>\n",
       "      <td>England were beaten by the Netherlands in a fr...</td>\n",
       "      <td>llama7b</td>\n",
       "      <td>XSUM</td>\n",
       "      <td>D3 L3</td>\n",
       "      <td>2</td>\n",
       "      <td>1</td>\n",
       "      <td>61</td>\n",
       "      <td>105</td>\n",
       "      <td>2</td>\n",
       "      <td>PROPN_PUNCT_PROPN</td>\n",
       "      <td>1319</td>\n",
       "    </tr>\n",
       "  </tbody>\n",
       "</table>\n",
       "</div>"
      ],
      "text/plain": [
       "                                                source  \\\n",
       "71   England failed to build on the optimism genera...   \n",
       "72   England failed to build on the optimism genera...   \n",
       "73   England failed to build on the optimism genera...   \n",
       "74   England failed to build on the optimism genera...   \n",
       "75   England failed to build on the optimism genera...   \n",
       "76   England failed to build on the optimism genera...   \n",
       "77   England failed to build on the optimism genera...   \n",
       "78   England failed to build on the optimism genera...   \n",
       "162  England failed to build on the optimism genera...   \n",
       "163  England failed to build on the optimism genera...   \n",
       "164  England failed to build on the optimism genera...   \n",
       "165  England failed to build on the optimism genera...   \n",
       "166  England failed to build on the optimism genera...   \n",
       "167  England failed to build on the optimism genera...   \n",
       "168  England failed to build on the optimism genera...   \n",
       "169  England failed to build on the optimism genera...   \n",
       "170  England failed to build on the optimism genera...   \n",
       "\n",
       "                                               summary      model origin  \\\n",
       "71   The document discusses England's loss to the N...  mistral7b   XSUM   \n",
       "72   The document discusses England's loss to the N...  mistral7b   XSUM   \n",
       "73   England was defeated by the Netherlands 2-1 in...   llama70b   XSUM   \n",
       "74   England was defeated by the Netherlands 2-1 in...   llama70b   XSUM   \n",
       "75   England was defeated by the Netherlands 2-1 in...   llama70b   XSUM   \n",
       "76   The Netherlands needed a stoppage-time goal to...   falcon7b   XSUM   \n",
       "77   The Netherlands needed a stoppage-time goal to...   falcon7b   XSUM   \n",
       "78   England were beaten by the Netherlands in a fr...    llama7b   XSUM   \n",
       "162  The document discusses England's loss to the N...  mistral7b   XSUM   \n",
       "163  The document discusses England's loss to the N...  mistral7b   XSUM   \n",
       "164  The document discusses England's loss to the N...  mistral7b   XSUM   \n",
       "165  England was defeated by the Netherlands 2-1 in...   llama70b   XSUM   \n",
       "166  England was defeated by the Netherlands 2-1 in...   llama70b   XSUM   \n",
       "167  England was defeated by the Netherlands 2-1 in...   llama70b   XSUM   \n",
       "168  The Netherlands needed a stoppage-time goal to...   falcon7b   XSUM   \n",
       "169  The Netherlands needed a stoppage-time goal to...   falcon7b   XSUM   \n",
       "170  England were beaten by the Netherlands in a fr...    llama7b   XSUM   \n",
       "\n",
       "                                       nonfactual_span  hallucination_count  \\\n",
       "71                                           in London                    3   \n",
       "72                                                  St                    3   \n",
       "73                                  in the 44th minute                    3   \n",
       "74                                  in the 82nd minute                    3   \n",
       "75   with several young players getting a chance to...                    3   \n",
       "76   and Van Persie's goal four minutes later broug...                    6   \n",
       "77   and a number of saves by their goalkeeper Kees...                    6   \n",
       "78                                               D3 L3                    2   \n",
       "162                                          in London                    5   \n",
       "163                                           friendly                    5   \n",
       "164                                                 St                    5   \n",
       "165                  through a Vincent Janssen penalty                    4   \n",
       "166                                 in the 82nd minute                    4   \n",
       "167  with several young players getting a chance to...                    4   \n",
       "168  and Van Persie's goal four minutes later broug...                    6   \n",
       "169  and a number of saves by their goalkeeper Kees...                    6   \n",
       "170                                              D3 L3                    2   \n",
       "\n",
       "     hallucination_spn_idx  hallucination_word_idx  hallucination_pos_perc  \\\n",
       "71                       0                      21                      18   \n",
       "72                       2                     130                     113   \n",
       "73                       0                      25                      26   \n",
       "74                       1                      53                      55   \n",
       "75                       2                      76                      78   \n",
       "76                       4                      79                      69   \n",
       "77                       5                     106                      92   \n",
       "78                       1                      61                     105   \n",
       "162                      0                      21                      18   \n",
       "163                      1                      33                      29   \n",
       "164                      4                     130                     113   \n",
       "165                      1                      38                      39   \n",
       "166                      2                      53                      55   \n",
       "167                      3                      76                      78   \n",
       "168                      4                      79                      69   \n",
       "169                      5                     106                      92   \n",
       "170                      1                      61                     105   \n",
       "\n",
       "     hallucination_sent_idx hallucinaton_prefix  doc_length  \n",
       "71                        0     PROPN_PROPN_ADP        1319  \n",
       "72                        0   PUNCT_PROPN_PROPN        1319  \n",
       "73                        1      PROPN_NOUN_ADP        1319  \n",
       "74                        2       DET_PROPN_ADP        1319  \n",
       "75                        3     PROPN_PUNCT_ADP        1319  \n",
       "76                        3      NUM_NOUN_CCONJ        1319  \n",
       "77                        4      ADJ_NOUN_CCONJ        1319  \n",
       "78                        2   PROPN_PUNCT_PROPN        1319  \n",
       "162                       0     PROPN_PROPN_ADP        1319  \n",
       "163                       0        PRON_ADJ_ADJ        1319  \n",
       "164                       0   PUNCT_PROPN_PROPN        1319  \n",
       "165                       1        ADJ_NOUN_ADP        1319  \n",
       "166                       2       DET_PROPN_ADP        1319  \n",
       "167                       3     PROPN_PUNCT_ADP        1319  \n",
       "168                       3      NUM_NOUN_CCONJ        1319  \n",
       "169                       4      ADJ_NOUN_CCONJ        1319  \n",
       "170                       2   PROPN_PUNCT_PROPN        1319  "
      ]
     },
     "execution_count": 68,
     "metadata": {},
     "output_type": "execute_result"
    }
   ],
   "source": [
    "df_analysis_docs"
   ]
  },
  {
   "cell_type": "code",
   "execution_count": 63,
   "id": "079ff2e7",
   "metadata": {},
   "outputs": [],
   "source": [
    "doc_length_stats = pd.DataFrame(doc_length_stats)\n"
   ]
  },
  {
   "cell_type": "code",
   "execution_count": 64,
   "id": "a6034105",
   "metadata": {},
   "outputs": [
    {
     "data": {
      "image/png": "[encoded data removed]",
      "text/plain": [
       "<Figure size 864x360 with 2 Axes>"
      ]
     },
     "metadata": {
      "needs_background": "light"
     },
     "output_type": "display_data"
    }
   ],
   "source": [
    "import seaborn as sns\n",
    "import matplotlib.pyplot as plt\n",
    "\n",
    "# Example data\n",
    "categories = ['A', 'B', 'C', 'D', 'E']\n",
    "values = [10, 20, 15, 25, 30]\n",
    "doc_length_stats_xsum = doc_length_stats[doc_length_stats['origin'] == 'XSUM']\n",
    "doc_length_stats_acibench = doc_length_stats[doc_length_stats['origin'] == 'ACIBENCH']\n",
    "\n",
    "# Create subplots\n",
    "fig, axes = plt.subplots(1, 2, figsize=(12, 5))\n",
    "\n",
    "# Subplot 1 - XSUM\n",
    "sns.barplot(x=doc_length_stats_xsum['doc_length'], y=doc_length_stats_xsum['over_one_hallucination'], ax=axes[0])\n",
    "axes[0].set_xlabel('Document Length')\n",
    "axes[0].set_ylabel('Over One Hallucination')\n",
    "axes[0].set_title('XSUM')\n",
    "\n",
    "# Subplot 2 - ACIBENCH\n",
    "sns.barplot(x=doc_length_stats_acibench['doc_length'], y=doc_length_stats_acibench['over_one_hallucination'], ax=axes[1])\n",
    "axes[1].set_xlabel('Document Length')\n",
    "axes[1].set_ylabel('% of data with more than one Hallucination')\n",
    "axes[1].set_title('ACIBENCH')\n",
    "\n",
    "# Adjust layout\n",
    "plt.tight_layout()\n",
    "\n",
    "# Show plots\n",
    "plt.show()\n"
   ]
  },
  {
   "cell_type": "code",
   "execution_count": 241,
   "id": "f4287f24",
   "metadata": {},
   "outputs": [
    {
     "data": {
      "text/plain": [
       "104"
      ]
     },
     "execution_count": 241,
     "metadata": {},
     "output_type": "execute_result"
    }
   ],
   "source": [
    "len(set(list(df_analysis['hallucinaton_prefix'].values)))"
   ]
  },
  {
   "cell_type": "code",
   "execution_count": 246,
   "id": "2a3c9f26",
   "metadata": {},
   "outputs": [
    {
     "ename": "NameError",
     "evalue": "name 'df_analysiis' is not defined",
     "output_type": "error",
     "traceback": [
      "\u001b[0;31m---------------------------------------------------------------------------\u001b[0m",
      "\u001b[0;31mNameError\u001b[0m                                 Traceback (most recent call last)",
      "Cell \u001b[0;32mIn[246], line 4\u001b[0m\n\u001b[1;32m      1\u001b[0m df_analysis[\u001b[38;5;124m'\u001b[39m\u001b[38;5;124mhallucinaton_prefix\u001b[39m\u001b[38;5;124m'\u001b[39m]\u001b[38;5;241m.\u001b[39mvalues\n\u001b[1;32m      3\u001b[0m df_analysis[\u001b[38;5;124m'\u001b[39m\u001b[38;5;124mhallucinated_pos\u001b[39m\u001b[38;5;124m'\u001b[39m] \u001b[38;5;241m=\u001b[39m [each\u001b[38;5;241m.\u001b[39msplit(\u001b[38;5;124m'\u001b[39m\u001b[38;5;124m_\u001b[39m\u001b[38;5;124m'\u001b[39m)[\u001b[38;5;241m-\u001b[39m\u001b[38;5;241m1\u001b[39m] \u001b[38;5;28;01mfor\u001b[39;00m each \u001b[38;5;129;01min\u001b[39;00m df_analysis[\u001b[38;5;124m'\u001b[39m\u001b[38;5;124mhallucinaton_prefix\u001b[39m\u001b[38;5;124m'\u001b[39m]\u001b[38;5;241m.\u001b[39mvalues]\n\u001b[0;32m----> 4\u001b[0m \u001b[43mdf_analysiis\u001b[49m\n",
      "\u001b[0;31mNameError\u001b[0m: name 'df_analysiis' is not defined"
     ]
    }
   ],
   "source": [
    "df_analysis['hallucinaton_prefix'].values\n",
    "\n",
    "df_analysis['hallucinated_pos'] = [each.split('_')[-1] for each in df_analysis['hallucinaton_prefix'].values]\n"
   ]
  },
  {
   "cell_type": "code",
   "execution_count": 257,
   "id": "259369bb",
   "metadata": {},
   "outputs": [
    {
     "data": {
      "text/plain": [
       "\"On 17 June, a trailer containing biscuits worth £20,000 was stolen from Burton's Foods Ltd. Two men were also accused of the theft, and a third person will appear in court on the same day.\""
      ]
     },
     "execution_count": 257,
     "metadata": {},
     "output_type": "execute_result"
    }
   ],
   "source": [
    "df_analysis['summary'].values[0]"
   ]
  },
  {
   "cell_type": "code",
   "execution_count": 255,
   "id": "9f09c13c",
   "metadata": {},
   "outputs": [
    {
     "data": {
      "text/plain": [
       "<Axes: xlabel='hallucinated_pos', ylabel='Count'>"
      ]
     },
     "execution_count": 255,
     "metadata": {},
     "output_type": "execute_result"
    },
    {
     "data": {
      "image/png": "[encoded data removed]",
      "text/plain": [
       "<Figure size 864x360 with 1 Axes>"
      ]
     },
     "metadata": {
      "needs_background": "light"
     },
     "output_type": "display_data"
    }
   ],
   "source": [
    "import seaborn as sns\n",
    "import matplotlib.pyplot as plt\n",
    "\n",
    "fig, axes = plt.subplots(1, 1, figsize=(12, 5))\n",
    "df_xsum = df_analysis[df_analysis['origin'] == 'XSUM']\n",
    "sns.histplot(df_xsum['hallucinated_pos'], axes = axes)"
   ]
  },
  {
   "cell_type": "code",
   "execution_count": 256,
   "id": "5d9503cd",
   "metadata": {},
   "outputs": [
    {
     "data": {
      "text/plain": [
       "<Axes: xlabel='hallucinated_pos', ylabel='Count'>"
      ]
     },
     "execution_count": 256,
     "metadata": {},
     "output_type": "execute_result"
    },
    {
     "data": {
      "image/png": "[encoded data removed]",
      "text/plain": [
       "<Figure size 864x360 with 1 Axes>"
      ]
     },
     "metadata": {
      "needs_background": "light"
     },
     "output_type": "display_data"
    }
   ],
   "source": [
    "import seaborn as sns\n",
    "import matplotlib.pyplot as plt\n",
    "\n",
    "fig, axes = plt.subplots(1, 1, figsize=(12, 5))\n",
    "df_xsum = df_analysis[df_analysis['origin'] == 'ACIBENCH']\n",
    "sns.histplot(df_xsum['hallucinated_pos'], axes = axes)"
   ]
  },
  {
   "cell_type": "code",
   "execution_count": null,
   "id": "7a45948e",
   "metadata": {},
   "outputs": [],
   "source": []
  }
 ],
 "metadata": {
  "kernelspec": {
   "display_name": "Python (probe)",
   "language": "python",
   "name": "probe"
  },
  "language_info": {
   "codemirror_mode": {
    "name": "ipython",
    "version": 3
   },
   "file_extension": ".py",
   "mimetype": "text/x-python",
   "name": "python",
   "nbconvert_exporter": "python",
   "pygments_lexer": "ipython3",
   "version": "3.8.18"
  }
 },
 "nbformat": 4,
 "nbformat_minor": 5
}
