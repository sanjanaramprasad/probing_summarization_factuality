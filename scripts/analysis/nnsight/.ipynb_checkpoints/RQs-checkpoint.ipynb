{
 "cells": [
  {
   "cell_type": "code",
   "execution_count": null,
   "id": "6e705595-a680-44f9-995d-fafdb2513bbc",
   "metadata": {},
   "outputs": [],
   "source": [
    "''' Causal analysis 1 \n",
    "a) Instruction tokens, source tokens, summary prefix tokens -- across all layers\n",
    "b) store AIEs for all \n",
    "'''"
   ]
  },
  {
   "cell_type": "code",
   "execution_count": null,
   "id": "8ea658c4-c0cf-45d5-96be-582aa44e53f8",
   "metadata": {},
   "outputs": [],
   "source": [
    "''' Causal analysis 2 \n",
    "a) Input of current token -- across all layers\n",
    "b) store AIEs for all \n",
    "c) store probability of generated token for all \n",
    "d) store probability of top 5 generated tokens\n",
    "d)Is the layer that is responsible for a prediction the same as where it first surfaced?\n",
    "'''"
   ]
  },
  {
   "cell_type": "code",
   "execution_count": null,
   "id": "b2f334f7-1169-452a-a34a-d3981d17e889",
   "metadata": {},
   "outputs": [],
   "source": [
    "''' Causal analysis 3 \n",
    "a) Input of current token -- across all layers\n",
    "b) Run clean run and add noise to random layers\n",
    "b) store AIEs for all \n",
    "c) store probability of generated token for all \n",
    "d) store probability of top 5 generated tokens\n",
    "d)Are some layers ignored/less significant??\n",
    "'''\n"
   ]
  },
  {
   "cell_type": "code",
   "execution_count": null,
   "id": "9c2544c3-f7d8-435d-946b-5438ef7d01e0",
   "metadata": {},
   "outputs": [],
   "source": [
    "''' Logit Lens'''\n",
    "''' How many times are predictions flipped for faithful and unfaithful tokens\n",
    "Where are flips recorded most? Which layer'''\n"
   ]
  }
 ],
 "metadata": {
  "kernelspec": {
   "display_name": "Python (nnsight)",
   "language": "python",
   "name": "nnsight"
  },
  "language_info": {
   "codemirror_mode": {
    "name": "ipython",
    "version": 3
   },
   "file_extension": ".py",
   "mimetype": "text/x-python",
   "name": "python",
   "nbconvert_exporter": "python",
   "pygments_lexer": "ipython3",
   "version": "3.8.19"
  }
 },
 "nbformat": 4,
 "nbformat_minor": 5
}
