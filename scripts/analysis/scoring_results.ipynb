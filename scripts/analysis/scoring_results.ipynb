{
 "cells": [
  {
   "cell_type": "code",
   "execution_count": 1,
   "id": "99c9e610",
   "metadata": {},
   "outputs": [],
   "source": [
    "import pandas as pd\n",
    "import numpy \n",
    "from tqdm import tqdm \n",
    "from scripts.utils import load_model"
   ]
  },
  {
   "cell_type": "code",
   "execution_count": 2,
   "id": "0de9082a-852e-4de2-a3e6-17eca767ea86",
   "metadata": {},
   "outputs": [
    {
     "data": {
      "application/vnd.jupyter.widget-view+json": {
       "model_id": "dcd3e5afcd394639a4a8dac9f218c8eb",
       "version_major": 2,
       "version_minor": 0
      },
      "text/plain": [
       "Loading checkpoint shards:   0%|          | 0/2 [00:00<?, ?it/s]"
      ]
     },
     "metadata": {},
     "output_type": "display_data"
    }
   ],
   "source": [
    "tokenizer, _ = load_model('llama7b')"
   ]
  },
  {
   "cell_type": "code",
   "execution_count": 3,
   "id": "619d4e8e-dc12-4431-9d12-551295621a2d",
   "metadata": {},
   "outputs": [],
   "source": [
    "# tokenizer.decode(204)"
   ]
  },
  {
   "cell_type": "code",
   "execution_count": 3,
   "id": "27d59dc8-7402-4062-8d83-720f228cc657",
   "metadata": {},
   "outputs": [
    {
     "data": {
      "text/html": [
       "<div>\n",
       "<style scoped>\n",
       "    .dataframe tbody tr th:only-of-type {\n",
       "        vertical-align: middle;\n",
       "    }\n",
       "\n",
       "    .dataframe tbody tr th {\n",
       "        vertical-align: top;\n",
       "    }\n",
       "\n",
       "    .dataframe thead th {\n",
       "        text-align: right;\n",
       "    }\n",
       "</style>\n",
       "<table border=\"1\" class=\"dataframe\">\n",
       "  <thead>\n",
       "    <tr style=\"text-align: right;\">\n",
       "      <th></th>\n",
       "      <th>Unnamed: 0</th>\n",
       "      <th>target_token_id</th>\n",
       "      <th>factual_label</th>\n",
       "      <th>target_token_str</th>\n",
       "      <th>P_y|x</th>\n",
       "      <th>P_y</th>\n",
       "      <th>P_ytopic</th>\n",
       "      <th>score_pmi</th>\n",
       "      <th>score_pmi_topic</th>\n",
       "      <th>distance_pmi</th>\n",
       "      <th>...</th>\n",
       "      <th>score_poel</th>\n",
       "      <th>score_poel_topic</th>\n",
       "      <th>score_harim</th>\n",
       "      <th>score_harim_topic</th>\n",
       "      <th>score_harim_plus</th>\n",
       "      <th>score_harim_plus_topic</th>\n",
       "      <th>score_coco_token</th>\n",
       "      <th>score_coco_span</th>\n",
       "      <th>score_coco_sent</th>\n",
       "      <th>document_id</th>\n",
       "    </tr>\n",
       "  </thead>\n",
       "  <tbody>\n",
       "    <tr>\n",
       "      <th>0</th>\n",
       "      <td>0</td>\n",
       "      <td>450</td>\n",
       "      <td>0</td>\n",
       "      <td>The</td>\n",
       "      <td>[0.0, 0.0, 0.0, 0.0, 0.0, 0.0, 0.0, 0.0, 0.0, ...</td>\n",
       "      <td>[0.0, 0.0, 0.0, 0.0, 0.0, 0.0, 0.0, 0.0, 0.0, ...</td>\n",
       "      <td>[0.0, 0.0, 0.0, 0.0, 0.0, 0.0, 0.0, 0.0, 0.0, ...</td>\n",
       "      <td>-1.148615</td>\n",
       "      <td>-1.148615</td>\n",
       "      <td>2.0</td>\n",
       "      <td>...</td>\n",
       "      <td>0.435563</td>\n",
       "      <td>0.435563</td>\n",
       "      <td>0.845033</td>\n",
       "      <td>0.845033</td>\n",
       "      <td>-8.371784</td>\n",
       "      <td>-8.371784</td>\n",
       "      <td>1.000000</td>\n",
       "      <td>1.000000</td>\n",
       "      <td>1.000000</td>\n",
       "      <td>Emily Edwards#ACIBENCH-D2N123#1702274615:llama...</td>\n",
       "    </tr>\n",
       "    <tr>\n",
       "      <th>1</th>\n",
       "      <td>1</td>\n",
       "      <td>16500</td>\n",
       "      <td>0</td>\n",
       "      <td>patient</td>\n",
       "      <td>[0.0, 0.0, 0.0, 0.0, 0.0, 0.0, 0.0, 0.0, 0.0, ...</td>\n",
       "      <td>[0.0, 0.0, 0.0, 0.0, 0.0, 0.0, 0.0, 0.0, 0.0, ...</td>\n",
       "      <td>[0.0, 0.0, 0.0, 0.0, 0.0, 0.0, 0.0, 0.0, 0.0, ...</td>\n",
       "      <td>-3.615121</td>\n",
       "      <td>-3.615121</td>\n",
       "      <td>2.0</td>\n",
       "      <td>...</td>\n",
       "      <td>-2.030942</td>\n",
       "      <td>-2.030942</td>\n",
       "      <td>-0.000000</td>\n",
       "      <td>-0.000000</td>\n",
       "      <td>0.009950</td>\n",
       "      <td>0.009950</td>\n",
       "      <td>0.891924</td>\n",
       "      <td>0.202812</td>\n",
       "      <td>1.000000</td>\n",
       "      <td>Emily Edwards#ACIBENCH-D2N123#1702274615:llama...</td>\n",
       "    </tr>\n",
       "    <tr>\n",
       "      <th>2</th>\n",
       "      <td>2</td>\n",
       "      <td>29892</td>\n",
       "      <td>0</td>\n",
       "      <td>,</td>\n",
       "      <td>[0.0, 0.0, 0.0, 0.0, 0.0, 0.0, 0.0, 0.0, 0.0, ...</td>\n",
       "      <td>[0.0, 0.0, 0.0, 0.0, 0.0, 0.0, 0.0, 0.0, 0.0, ...</td>\n",
       "      <td>[0.0, 0.0, 0.0, 0.0, 0.0, 0.0, 0.0, 0.0, 0.0, ...</td>\n",
       "      <td>-3.615121</td>\n",
       "      <td>-3.615121</td>\n",
       "      <td>2.0</td>\n",
       "      <td>...</td>\n",
       "      <td>-2.030942</td>\n",
       "      <td>-2.030942</td>\n",
       "      <td>-0.000000</td>\n",
       "      <td>-0.000000</td>\n",
       "      <td>0.009950</td>\n",
       "      <td>0.009950</td>\n",
       "      <td>1.000000</td>\n",
       "      <td>1.000000</td>\n",
       "      <td>1.000000</td>\n",
       "      <td>Emily Edwards#ACIBENCH-D2N123#1702274615:llama...</td>\n",
       "    </tr>\n",
       "    <tr>\n",
       "      <th>3</th>\n",
       "      <td>3</td>\n",
       "      <td>9656</td>\n",
       "      <td>0</td>\n",
       "      <td>Ty</td>\n",
       "      <td>[0.0, 0.0, 0.0, 0.0, 0.0, 0.0, 0.0, 0.0, 0.0, ...</td>\n",
       "      <td>[0.0, 0.0, 0.0, 0.0, 0.0, 0.0, 0.0, 0.0, 0.0, ...</td>\n",
       "      <td>[0.0, 0.0, 0.0, 0.0, 0.0, 0.0, 0.0, 0.0, 0.0, ...</td>\n",
       "      <td>-3.615121</td>\n",
       "      <td>-3.615121</td>\n",
       "      <td>2.0</td>\n",
       "      <td>...</td>\n",
       "      <td>-2.030942</td>\n",
       "      <td>-2.030942</td>\n",
       "      <td>-0.000000</td>\n",
       "      <td>-0.000000</td>\n",
       "      <td>0.009950</td>\n",
       "      <td>0.009950</td>\n",
       "      <td>0.000000</td>\n",
       "      <td>0.000000</td>\n",
       "      <td>0.000000</td>\n",
       "      <td>Emily Edwards#ACIBENCH-D2N123#1702274615:llama...</td>\n",
       "    </tr>\n",
       "    <tr>\n",
       "      <th>4</th>\n",
       "      <td>4</td>\n",
       "      <td>1358</td>\n",
       "      <td>0</td>\n",
       "      <td>ler</td>\n",
       "      <td>[0.0, 0.0, 0.0, 0.0, 0.0, 0.0, 0.0, 0.0, 0.0, ...</td>\n",
       "      <td>[0.0, 0.0, 0.0, 0.0, 0.0, 0.0, 0.0, 0.0, 0.0, ...</td>\n",
       "      <td>[0.0, 0.0, 0.0, 0.0, 0.0, 0.0, 0.0, 0.0, 0.0, ...</td>\n",
       "      <td>1.000000</td>\n",
       "      <td>1.000000</td>\n",
       "      <td>0.0</td>\n",
       "      <td>...</td>\n",
       "      <td>0.996577</td>\n",
       "      <td>0.996577</td>\n",
       "      <td>-0.010000</td>\n",
       "      <td>-0.010000</td>\n",
       "      <td>0.079950</td>\n",
       "      <td>0.079950</td>\n",
       "      <td>1.000000</td>\n",
       "      <td>1.000000</td>\n",
       "      <td>0.498891</td>\n",
       "      <td>Emily Edwards#ACIBENCH-D2N123#1702274615:llama...</td>\n",
       "    </tr>\n",
       "  </tbody>\n",
       "</table>\n",
       "<p>5 rows × 21 columns</p>\n",
       "</div>"
      ],
      "text/plain": [
       "   Unnamed: 0  target_token_id  factual_label target_token_str  \\\n",
       "0           0              450              0              The   \n",
       "1           1            16500              0          patient   \n",
       "2           2            29892              0                ,   \n",
       "3           3             9656              0               Ty   \n",
       "4           4             1358              0              ler   \n",
       "\n",
       "                                               P_y|x  \\\n",
       "0  [0.0, 0.0, 0.0, 0.0, 0.0, 0.0, 0.0, 0.0, 0.0, ...   \n",
       "1  [0.0, 0.0, 0.0, 0.0, 0.0, 0.0, 0.0, 0.0, 0.0, ...   \n",
       "2  [0.0, 0.0, 0.0, 0.0, 0.0, 0.0, 0.0, 0.0, 0.0, ...   \n",
       "3  [0.0, 0.0, 0.0, 0.0, 0.0, 0.0, 0.0, 0.0, 0.0, ...   \n",
       "4  [0.0, 0.0, 0.0, 0.0, 0.0, 0.0, 0.0, 0.0, 0.0, ...   \n",
       "\n",
       "                                                 P_y  \\\n",
       "0  [0.0, 0.0, 0.0, 0.0, 0.0, 0.0, 0.0, 0.0, 0.0, ...   \n",
       "1  [0.0, 0.0, 0.0, 0.0, 0.0, 0.0, 0.0, 0.0, 0.0, ...   \n",
       "2  [0.0, 0.0, 0.0, 0.0, 0.0, 0.0, 0.0, 0.0, 0.0, ...   \n",
       "3  [0.0, 0.0, 0.0, 0.0, 0.0, 0.0, 0.0, 0.0, 0.0, ...   \n",
       "4  [0.0, 0.0, 0.0, 0.0, 0.0, 0.0, 0.0, 0.0, 0.0, ...   \n",
       "\n",
       "                                            P_ytopic  score_pmi  \\\n",
       "0  [0.0, 0.0, 0.0, 0.0, 0.0, 0.0, 0.0, 0.0, 0.0, ...  -1.148615   \n",
       "1  [0.0, 0.0, 0.0, 0.0, 0.0, 0.0, 0.0, 0.0, 0.0, ...  -3.615121   \n",
       "2  [0.0, 0.0, 0.0, 0.0, 0.0, 0.0, 0.0, 0.0, 0.0, ...  -3.615121   \n",
       "3  [0.0, 0.0, 0.0, 0.0, 0.0, 0.0, 0.0, 0.0, 0.0, ...  -3.615121   \n",
       "4  [0.0, 0.0, 0.0, 0.0, 0.0, 0.0, 0.0, 0.0, 0.0, ...   1.000000   \n",
       "\n",
       "   score_pmi_topic  distance_pmi  ...  score_poel  score_poel_topic  \\\n",
       "0        -1.148615           2.0  ...    0.435563          0.435563   \n",
       "1        -3.615121           2.0  ...   -2.030942         -2.030942   \n",
       "2        -3.615121           2.0  ...   -2.030942         -2.030942   \n",
       "3        -3.615121           2.0  ...   -2.030942         -2.030942   \n",
       "4         1.000000           0.0  ...    0.996577          0.996577   \n",
       "\n",
       "   score_harim  score_harim_topic  score_harim_plus  score_harim_plus_topic  \\\n",
       "0     0.845033           0.845033         -8.371784               -8.371784   \n",
       "1    -0.000000          -0.000000          0.009950                0.009950   \n",
       "2    -0.000000          -0.000000          0.009950                0.009950   \n",
       "3    -0.000000          -0.000000          0.009950                0.009950   \n",
       "4    -0.010000          -0.010000          0.079950                0.079950   \n",
       "\n",
       "   score_coco_token  score_coco_span  score_coco_sent  \\\n",
       "0          1.000000         1.000000         1.000000   \n",
       "1          0.891924         0.202812         1.000000   \n",
       "2          1.000000         1.000000         1.000000   \n",
       "3          0.000000         0.000000         0.000000   \n",
       "4          1.000000         1.000000         0.498891   \n",
       "\n",
       "                                         document_id  \n",
       "0  Emily Edwards#ACIBENCH-D2N123#1702274615:llama...  \n",
       "1  Emily Edwards#ACIBENCH-D2N123#1702274615:llama...  \n",
       "2  Emily Edwards#ACIBENCH-D2N123#1702274615:llama...  \n",
       "3  Emily Edwards#ACIBENCH-D2N123#1702274615:llama...  \n",
       "4  Emily Edwards#ACIBENCH-D2N123#1702274615:llama...  \n",
       "\n",
       "[5 rows x 21 columns]"
      ]
     },
     "execution_count": 3,
     "metadata": {},
     "output_type": "execute_result"
    }
   ],
   "source": [
    "metric_data_path = '/scratch/ramprasad.sa/probing_summarization_factuality/metric_scores/scores_llama7b_ACIBENCH.csv'\n",
    "df = pd.read_csv(metric_data_path)\n",
    "df = df[df['target_token_id'] != 204]\n",
    "df.head()"
   ]
  },
  {
   "cell_type": "code",
   "execution_count": 4,
   "id": "ced7c167-bbd7-4c2a-a8e8-56b99774532c",
   "metadata": {},
   "outputs": [
    {
     "data": {
      "text/plain": [
       "6924"
      ]
     },
     "execution_count": 4,
     "metadata": {},
     "output_type": "execute_result"
    }
   ],
   "source": [
    "len(df)"
   ]
  },
  {
   "cell_type": "code",
   "execution_count": 16,
   "id": "2f685a32-fe4e-4d0c-880a-c96f6be8963d",
   "metadata": {},
   "outputs": [],
   "source": [
    "# list(df['target_token_str'].values)"
   ]
  },
  {
   "cell_type": "code",
   "execution_count": 5,
   "id": "2ed7b5a2-93a0-42c8-b1e5-ed14845d08ea",
   "metadata": {},
   "outputs": [
    {
     "data": {
      "text/plain": [
       "(['Cynthia Lamanda#ACIBENCH-D2N107#1701505474:llama7b-ul2'], 51)"
      ]
     },
     "execution_count": 5,
     "metadata": {},
     "output_type": "execute_result"
    }
   ],
   "source": [
    "df = df[~df['target_token_str'].isnull()]\n",
    "unique_documents = list(set(df['document_id'].values))\n",
    "unique_documents[:1], len(unique_documents)"
   ]
  },
  {
   "cell_type": "code",
   "execution_count": 6,
   "id": "27140a62-3d13-4cc0-96b0-35d0a133b26a",
   "metadata": {},
   "outputs": [
    {
     "data": {
      "text/plain": [
       "51"
      ]
     },
     "execution_count": 6,
     "metadata": {},
     "output_type": "execute_result"
    }
   ],
   "source": [
    "len(unique_documents)"
   ]
  },
  {
   "cell_type": "code",
   "execution_count": 7,
   "id": "e7615a03-18ac-4ad1-bdfc-b447dd19dd8f",
   "metadata": {},
   "outputs": [
    {
     "name": "stderr",
     "output_type": "stream",
     "text": [
      "100%|█████████████████████████████████████████████████████████████████████████████████████████████████████████████████████████████████████████████████████████████████████████████████████████████████████████| 51/51 [13:37<00:00, 16.03s/it]\n"
     ]
    }
   ],
   "source": [
    "df_document_word = {\n",
    "    'word': [],\n",
    "    'P_y|x': [],\n",
    "    'P_y': [],\n",
    "    'P_ytopic': [],\n",
    "    'score_pmi': [],\n",
    "    'score_pmi_topic': [],\n",
    "    'distance_pmi': [],\n",
    "    'distance_pmi_topic': [],\n",
    "    'score_poel': [],\n",
    "    'score_poel_topic': [],\n",
    "    'score_harim': [],\n",
    "    'score_harim_topic': [],\n",
    "    'score_harim_plus': [],\n",
    "    'score_harim_plus_topic': [],\n",
    "    'score_coco_token': [],\n",
    "    'score_coco_span': [],\n",
    "    'score_coco_sent': [],\n",
    "    'factual_label': []\n",
    "}\n",
    "\n",
    "\n",
    "\n",
    "for document_id in tqdm(unique_documents):\n",
    "    df_document = df[df['document_id'] == document_id]\n",
    "    words_scores = {}\n",
    "    words = []\n",
    "    scores = {}\n",
    "    row_counter = 0\n",
    "    for idx, row in df_document.iterrows():\n",
    "            target_token_str = row['target_token_str']\n",
    "            # if target_token_str.strip():\n",
    "            reset = False\n",
    "            word = ''.join(words)\n",
    "            \n",
    "            if row_counter == 0:\n",
    "                target_token_str = target_token_str.strip()\n",
    "                \n",
    "            if (' ' in target_token_str) or (idx == len(df_document) - 1):\n",
    "                reset = True\n",
    "\n",
    "            if reset:\n",
    "                if word.strip():\n",
    "                    df_document_word['word']+= [word]\n",
    "                    for score_key, score_list in scores.items():\n",
    "                        df_document_word[score_key].append(score_list)\n",
    "                words = []\n",
    "                scores = {}\n",
    "\n",
    "            words += [target_token_str]\n",
    "            for column in row.keys():\n",
    "                target_token_score = None\n",
    "                if column in ['P_y|x', 'P_y', 'P_ytopic']:\n",
    "                        prob_score = numpy.array(eval(row[column]))\n",
    "                        target_token_score = prob_score[row['target_token_id']]\n",
    "                elif 'distance' in column or 'score' in column or 'factual_label' in column:\n",
    "                        # print(row[column])\n",
    "                        target_token_score = row[column]\n",
    "                if target_token_score != None:\n",
    "                    if column not in scores: \n",
    "                            scores[column] = []\n",
    "                    scores[column] += [target_token_score]\n",
    "            row_counter += 1"
   ]
  },
  {
   "cell_type": "code",
   "execution_count": 8,
   "id": "10dd3196-8027-4321-876b-0479e87330fb",
   "metadata": {},
   "outputs": [
    {
     "data": {
      "text/plain": [
       "{'word': 4672,\n",
       " 'P_y|x': 4672,\n",
       " 'P_y': 4672,\n",
       " 'P_ytopic': 4672,\n",
       " 'score_pmi': 4672,\n",
       " 'score_pmi_topic': 4672,\n",
       " 'distance_pmi': 4672,\n",
       " 'distance_pmi_topic': 4672,\n",
       " 'score_poel': 4672,\n",
       " 'score_poel_topic': 4672,\n",
       " 'score_harim': 4672,\n",
       " 'score_harim_topic': 4672,\n",
       " 'score_harim_plus': 4672,\n",
       " 'score_harim_plus_topic': 4672,\n",
       " 'score_coco_token': 4672,\n",
       " 'score_coco_span': 4672,\n",
       " 'score_coco_sent': 4672,\n",
       " 'factual_label': 4672}"
      ]
     },
     "execution_count": 8,
     "metadata": {},
     "output_type": "execute_result"
    }
   ],
   "source": [
    "{k : len(v) for k , v in df_document_word.items()}"
   ]
  },
  {
   "cell_type": "code",
   "execution_count": 9,
   "id": "0fbd79c3-5548-4715-8967-4da24a161d90",
   "metadata": {},
   "outputs": [
    {
     "data": {
      "text/html": [
       "<div>\n",
       "<style scoped>\n",
       "    .dataframe tbody tr th:only-of-type {\n",
       "        vertical-align: middle;\n",
       "    }\n",
       "\n",
       "    .dataframe tbody tr th {\n",
       "        vertical-align: top;\n",
       "    }\n",
       "\n",
       "    .dataframe thead th {\n",
       "        text-align: right;\n",
       "    }\n",
       "</style>\n",
       "<table border=\"1\" class=\"dataframe\">\n",
       "  <thead>\n",
       "    <tr style=\"text-align: right;\">\n",
       "      <th></th>\n",
       "      <th>word</th>\n",
       "      <th>P_y|x</th>\n",
       "      <th>P_y</th>\n",
       "      <th>P_ytopic</th>\n",
       "      <th>score_pmi</th>\n",
       "      <th>score_pmi_topic</th>\n",
       "      <th>distance_pmi</th>\n",
       "      <th>distance_pmi_topic</th>\n",
       "      <th>score_poel</th>\n",
       "      <th>score_poel_topic</th>\n",
       "      <th>score_harim</th>\n",
       "      <th>score_harim_topic</th>\n",
       "      <th>score_harim_plus</th>\n",
       "      <th>score_harim_plus_topic</th>\n",
       "      <th>score_coco_token</th>\n",
       "      <th>score_coco_span</th>\n",
       "      <th>score_coco_sent</th>\n",
       "      <th>factual_label</th>\n",
       "    </tr>\n",
       "  </thead>\n",
       "  <tbody>\n",
       "    <tr>\n",
       "      <th>0</th>\n",
       "      <td>The</td>\n",
       "      <td>[0.11041267961263657]</td>\n",
       "      <td>[0.0]</td>\n",
       "      <td>[0.0]</td>\n",
       "      <td>[-1.4883397467330268]</td>\n",
       "      <td>[-1.4883397467330268]</td>\n",
       "      <td>[2.00000001816079]</td>\n",
       "      <td>[0.2208254635334015]</td>\n",
       "      <td>[0.0958387972468761]</td>\n",
       "      <td>[0.0958387972468761]</td>\n",
       "      <td>[0.7824697273900959]</td>\n",
       "      <td>[0.7824697273900959]</td>\n",
       "      <td>[-7.594118530985735]</td>\n",
       "      <td>[-7.594118530985735]</td>\n",
       "      <td>[1.0]</td>\n",
       "      <td>[1.0]</td>\n",
       "      <td>[1.0]</td>\n",
       "      <td>[0]</td>\n",
       "    </tr>\n",
       "    <tr>\n",
       "      <th>1</th>\n",
       "      <td>patient,</td>\n",
       "      <td>[1.0, 0.11917408555746078]</td>\n",
       "      <td>[0.0, 0.0]</td>\n",
       "      <td>[0.0, 0.0]</td>\n",
       "      <td>[-3.615120516841259, -1.5585759020557193]</td>\n",
       "      <td>[-3.615120516841259, -1.5585759020557193]</td>\n",
       "      <td>[2.000000006519258, 2.000000014901161]</td>\n",
       "      <td>[1.999999925494194, 1.999999962747097]</td>\n",
       "      <td>[-2.030941972861356, 0.0256026419241837]</td>\n",
       "      <td>[-2.030941972861356, 0.0256026419241837]</td>\n",
       "      <td>[-0.0, 0.7670460324091101]</td>\n",
       "      <td>[-0.0, 0.7670460324091101]</td>\n",
       "      <td>[0.009950330853168, -7.4159165107961424]</td>\n",
       "      <td>[0.009950330853168, -7.4159165107961424]</td>\n",
       "      <td>[1.0, 1.0]</td>\n",
       "      <td>[1.0, 1.0]</td>\n",
       "      <td>[1.0, 1.0]</td>\n",
       "      <td>[0, 0]</td>\n",
       "    </tr>\n",
       "    <tr>\n",
       "      <th>2</th>\n",
       "      <td>Bryan,</td>\n",
       "      <td>[1.0, 1.0, 1.0]</td>\n",
       "      <td>[0.0, 0.6291239857673645, 1.0]</td>\n",
       "      <td>[0.0, 0.4255390465259552, 1.0]</td>\n",
       "      <td>[-3.615120516841259, 0.5423928566555052, 1.0]</td>\n",
       "      <td>[-3.615120516841259, 0.1588788415103458, 1.0]</td>\n",
       "      <td>[2.0000000298023224, 0.7417520955204964, 0.0]</td>\n",
       "      <td>[2.000000026077032, 1.148921936750412, 0.0]</td>\n",
       "      <td>[-2.030941972861356, 0.6963868001525215, 0.996...</td>\n",
       "      <td>[-2.030941972861356, 0.444801606217297, 0.9965...</td>\n",
       "      <td>[-0.0, -0.0062912398576736, -0.01]</td>\n",
       "      <td>[-0.0, -0.0042553904652595, -0.01]</td>\n",
       "      <td>[0.009950330853168, 0.0539890098568836, 0.0799...</td>\n",
       "      <td>[0.009950330853168, 0.0397380641099849, 0.0799...</td>\n",
       "      <td>[0.0, 0.8404759168624878, 1.0]</td>\n",
       "      <td>[0.0, 0.8769726157188416, 1.0]</td>\n",
       "      <td>[0.0, 0.8494499325752258, 1.0]</td>\n",
       "      <td>[0, 0, 0]</td>\n",
       "    </tr>\n",
       "    <tr>\n",
       "      <th>3</th>\n",
       "      <td>is</td>\n",
       "      <td>[0.0]</td>\n",
       "      <td>[0.18700164556503296]</td>\n",
       "      <td>[0.15148496627807617]</td>\n",
       "      <td>[3.98062698883105]</td>\n",
       "      <td>[3.781826957274255]</td>\n",
       "      <td>[1.9999999850988388]</td>\n",
       "      <td>[1.5275070518255234]</td>\n",
       "      <td>[4.539469848653072]</td>\n",
       "      <td>[4.409057027951814]</td>\n",
       "      <td>[1.1751316291093823]</td>\n",
       "      <td>[1.1399701166152951]</td>\n",
       "      <td>[-12.831091589753768]</td>\n",
       "      <td>[-12.58496100229516]</td>\n",
       "      <td>[1.42728653550148]</td>\n",
       "      <td>[1.0]</td>\n",
       "      <td>[1.021860159933567]</td>\n",
       "      <td>[0]</td>\n",
       "    </tr>\n",
       "    <tr>\n",
       "      <th>4</th>\n",
       "      <td>experiencing</td>\n",
       "      <td>[1.0, 1.0]</td>\n",
       "      <td>[0.0, 1.0]</td>\n",
       "      <td>[0.1514168381690979, 1.0]</td>\n",
       "      <td>[-3.615120516841259, 1.0]</td>\n",
       "      <td>[-0.8337155337340785, 1.0]</td>\n",
       "      <td>[1.999999951571226, 0.0]</td>\n",
       "      <td>[1.6971663311123848, 0.0]</td>\n",
       "      <td>[-2.030941972861356, 0.9965770861865102]</td>\n",
       "      <td>[-0.2063403039430453, 0.9965770861865102]</td>\n",
       "      <td>[-0.0, -0.01]</td>\n",
       "      <td>[-0.0015141683816909, -0.01]</td>\n",
       "      <td>[0.009950330853168, 0.0799503308531681]</td>\n",
       "      <td>[0.0205495095250049, 0.0799503308531681]</td>\n",
       "      <td>[1.0, 1.0]</td>\n",
       "      <td>[1.0, 1.0]</td>\n",
       "      <td>[1.0, 1.0]</td>\n",
       "      <td>[0, 0]</td>\n",
       "    </tr>\n",
       "  </tbody>\n",
       "</table>\n",
       "</div>"
      ],
      "text/plain": [
       "            word                       P_y|x                             P_y  \\\n",
       "0            The       [0.11041267961263657]                           [0.0]   \n",
       "1       patient,  [1.0, 0.11917408555746078]                      [0.0, 0.0]   \n",
       "2         Bryan,             [1.0, 1.0, 1.0]  [0.0, 0.6291239857673645, 1.0]   \n",
       "3             is                       [0.0]           [0.18700164556503296]   \n",
       "4   experiencing                  [1.0, 1.0]                      [0.0, 1.0]   \n",
       "\n",
       "                         P_ytopic  \\\n",
       "0                           [0.0]   \n",
       "1                      [0.0, 0.0]   \n",
       "2  [0.0, 0.4255390465259552, 1.0]   \n",
       "3           [0.15148496627807617]   \n",
       "4       [0.1514168381690979, 1.0]   \n",
       "\n",
       "                                       score_pmi  \\\n",
       "0                          [-1.4883397467330268]   \n",
       "1      [-3.615120516841259, -1.5585759020557193]   \n",
       "2  [-3.615120516841259, 0.5423928566555052, 1.0]   \n",
       "3                             [3.98062698883105]   \n",
       "4                      [-3.615120516841259, 1.0]   \n",
       "\n",
       "                                 score_pmi_topic  \\\n",
       "0                          [-1.4883397467330268]   \n",
       "1      [-3.615120516841259, -1.5585759020557193]   \n",
       "2  [-3.615120516841259, 0.1588788415103458, 1.0]   \n",
       "3                            [3.781826957274255]   \n",
       "4                     [-0.8337155337340785, 1.0]   \n",
       "\n",
       "                                    distance_pmi  \\\n",
       "0                             [2.00000001816079]   \n",
       "1         [2.000000006519258, 2.000000014901161]   \n",
       "2  [2.0000000298023224, 0.7417520955204964, 0.0]   \n",
       "3                           [1.9999999850988388]   \n",
       "4                       [1.999999951571226, 0.0]   \n",
       "\n",
       "                            distance_pmi_topic  \\\n",
       "0                         [0.2208254635334015]   \n",
       "1       [1.999999925494194, 1.999999962747097]   \n",
       "2  [2.000000026077032, 1.148921936750412, 0.0]   \n",
       "3                         [1.5275070518255234]   \n",
       "4                    [1.6971663311123848, 0.0]   \n",
       "\n",
       "                                          score_poel  \\\n",
       "0                               [0.0958387972468761]   \n",
       "1           [-2.030941972861356, 0.0256026419241837]   \n",
       "2  [-2.030941972861356, 0.6963868001525215, 0.996...   \n",
       "3                                [4.539469848653072]   \n",
       "4           [-2.030941972861356, 0.9965770861865102]   \n",
       "\n",
       "                                    score_poel_topic  \\\n",
       "0                               [0.0958387972468761]   \n",
       "1           [-2.030941972861356, 0.0256026419241837]   \n",
       "2  [-2.030941972861356, 0.444801606217297, 0.9965...   \n",
       "3                                [4.409057027951814]   \n",
       "4          [-0.2063403039430453, 0.9965770861865102]   \n",
       "\n",
       "                          score_harim                   score_harim_topic  \\\n",
       "0                [0.7824697273900959]                [0.7824697273900959]   \n",
       "1          [-0.0, 0.7670460324091101]          [-0.0, 0.7670460324091101]   \n",
       "2  [-0.0, -0.0062912398576736, -0.01]  [-0.0, -0.0042553904652595, -0.01]   \n",
       "3                [1.1751316291093823]                [1.1399701166152951]   \n",
       "4                       [-0.0, -0.01]        [-0.0015141683816909, -0.01]   \n",
       "\n",
       "                                    score_harim_plus  \\\n",
       "0                               [-7.594118530985735]   \n",
       "1           [0.009950330853168, -7.4159165107961424]   \n",
       "2  [0.009950330853168, 0.0539890098568836, 0.0799...   \n",
       "3                              [-12.831091589753768]   \n",
       "4            [0.009950330853168, 0.0799503308531681]   \n",
       "\n",
       "                              score_harim_plus_topic  \\\n",
       "0                               [-7.594118530985735]   \n",
       "1           [0.009950330853168, -7.4159165107961424]   \n",
       "2  [0.009950330853168, 0.0397380641099849, 0.0799...   \n",
       "3                               [-12.58496100229516]   \n",
       "4           [0.0205495095250049, 0.0799503308531681]   \n",
       "\n",
       "                 score_coco_token                 score_coco_span  \\\n",
       "0                           [1.0]                           [1.0]   \n",
       "1                      [1.0, 1.0]                      [1.0, 1.0]   \n",
       "2  [0.0, 0.8404759168624878, 1.0]  [0.0, 0.8769726157188416, 1.0]   \n",
       "3              [1.42728653550148]                           [1.0]   \n",
       "4                      [1.0, 1.0]                      [1.0, 1.0]   \n",
       "\n",
       "                  score_coco_sent factual_label  \n",
       "0                           [1.0]           [0]  \n",
       "1                      [1.0, 1.0]        [0, 0]  \n",
       "2  [0.0, 0.8494499325752258, 1.0]     [0, 0, 0]  \n",
       "3             [1.021860159933567]           [0]  \n",
       "4                      [1.0, 1.0]        [0, 0]  "
      ]
     },
     "execution_count": 9,
     "metadata": {},
     "output_type": "execute_result"
    }
   ],
   "source": [
    "df_document_word = pd.DataFrame(df_document_word)\n",
    "{k : len(v) for k , v in df_document_word.items()}\n",
    "df_document_word.head()"
   ]
  },
  {
   "cell_type": "code",
   "execution_count": 10,
   "id": "d67d09a2-8e1f-47a5-bc87-9b00038877fb",
   "metadata": {},
   "outputs": [],
   "source": [
    "import numpy as np\n",
    "from sklearn import metrics\n",
    "\n",
    "def get_scores(df, metric_key):\n",
    "    scoring_criteria = {'max': [],\n",
    "                       'min': [],\n",
    "                        'mean': [],\n",
    "                        'first': []\n",
    "                       }\n",
    "    all_labels = []\n",
    "    for idx, row in df.iterrows():\n",
    "        label = row['factual_label']\n",
    "        if len(set(label))== 1:\n",
    "            metric_value = row[metric_key]\n",
    "            scoring_criteria['max'] +=  [max(metric_value)]\n",
    "            scoring_criteria['min'] += [min(metric_value)]\n",
    "            scoring_criteria['mean'] += [np.mean(metric_value)]\n",
    "            scoring_criteria['first'] += [metric_value[0]]\n",
    "            \n",
    "            # print(row)\n",
    "            all_labels += list(set(label))\n",
    "        # else:\n",
    "        #     print(row)\n",
    "    \n",
    "    results = {}\n",
    "    \n",
    "    for criteria, pred_scores in scoring_criteria.items():\n",
    "        criteria_score = metrics.roc_auc_score(all_labels, pred_scores)\n",
    "        results[criteria] = criteria_score\n",
    "#     for criteria, pred_scores in scoring_criteria.items():\n",
    "#         fpr, tpr, thresholds = metrics.roc_curve(all_labels, pred_scores)\n",
    "#         assert(len(all_labels) == len(pred_scores))\n",
    "#         fpr_values = fpr\n",
    "#         tpr_values = tpr\n",
    "#         fnr_values = 1 - tpr\n",
    "#         tnr_values = 1 - fpr_values\n",
    "#         balanced_accuracy = (tpr_values + tnr_values) / 2\n",
    "#         for i in range(len(thresholds)):\n",
    "#             print(\"Threshold: {:.2f}, FPR: {:.2f}, FNR: {:.2f}, BA: {:.2f}\".format(thresholds[i], fpr[i], tpr[i], balanced_accuracy[i]))\n",
    "    print(results)\n",
    "    \n",
    "            "
   ]
  },
  {
   "cell_type": "code",
   "execution_count": 11,
   "id": "81492425-651a-44b2-814e-7a6ab371c7d9",
   "metadata": {},
   "outputs": [
    {
     "name": "stdout",
     "output_type": "stream",
     "text": [
      "{'max': 0.46750087782564964, 'min': 0.4586342456393418, 'mean': 0.4586905925560385, 'first': 0.4480522946836981}\n"
     ]
    }
   ],
   "source": [
    "get_scores(df_document_word, 'P_y|x')"
   ]
  },
  {
   "cell_type": "code",
   "execution_count": 12,
   "id": "5495853f-52cd-453a-87d9-4388a17bbb2f",
   "metadata": {},
   "outputs": [
    {
     "name": "stdout",
     "output_type": "stream",
     "text": [
      "{'max': 0.5484891908820013, 'min': 0.5674051473798092, 'mean': 0.5651512707119404, 'first': 0.567078928388407}\n"
     ]
    }
   ],
   "source": [
    "get_scores(df_document_word, 'score_pmi')"
   ]
  },
  {
   "cell_type": "code",
   "execution_count": 13,
   "id": "65edc914-8ef3-42d5-a428-9c2b6e9336a0",
   "metadata": {},
   "outputs": [
    {
     "name": "stdout",
     "output_type": "stream",
     "text": [
      "{'max': 0.550280429707518, 'min': 0.5681429954258167, 'mean': 0.5651311044470173, 'first': 0.571467463510923}\n"
     ]
    }
   ],
   "source": [
    "get_scores(df_document_word, 'score_poel')"
   ]
  },
  {
   "cell_type": "code",
   "execution_count": 14,
   "id": "0e18b758-b5bb-415c-872d-4d8bfdb2d109",
   "metadata": {},
   "outputs": [
    {
     "name": "stdout",
     "output_type": "stream",
     "text": [
      "{'max': 0.5032574449105093, 'min': 0.5032859149315771, 'mean': 0.5048043160551938, 'first': 0.5122142321635318}\n"
     ]
    }
   ],
   "source": [
    "get_scores(df_document_word, 'score_harim')"
   ]
  },
  {
   "cell_type": "code",
   "execution_count": 15,
   "id": "e0207f16-6e79-4b8e-9a54-fd888ea6aa17",
   "metadata": {},
   "outputs": [
    {
     "name": "stdout",
     "output_type": "stream",
     "text": [
      "{'max': 0.5173572228443448, 'min': 0.560527857915615, 'mean': 0.5578184609106611, 'first': 0.5538528242260898}\n"
     ]
    }
   ],
   "source": [
    "get_scores(df_document_word, 'score_coco_token')"
   ]
  },
  {
   "cell_type": "code",
   "execution_count": 16,
   "id": "eccd5f9d-126d-46ed-ae77-133398b87807",
   "metadata": {},
   "outputs": [
    {
     "name": "stdout",
     "output_type": "stream",
     "text": [
      "{'max': 0.511348269022719, 'min': 0.5502626359443505, 'mean': 0.5463658018106934, 'first': 0.5463580911799875}\n"
     ]
    }
   ],
   "source": [
    "get_scores(df_document_word, 'score_coco_span')"
   ]
  },
  {
   "cell_type": "code",
   "execution_count": 17,
   "id": "6cd6dc16-bb5a-4c62-9e65-6784ee6aa908",
   "metadata": {},
   "outputs": [
    {
     "name": "stdout",
     "output_type": "stream",
     "text": [
      "{'max': 0.5102017575493005, 'min': 0.557390817469205, 'mean': 0.547871747300093, 'first': 0.5464583293791637}\n"
     ]
    }
   ],
   "source": [
    "get_scores(df_document_word, 'score_coco_sent')"
   ]
  },
  {
   "cell_type": "code",
   "execution_count": null,
   "id": "cbe6e318-3ec6-447c-8d1c-747a2d716a76",
   "metadata": {},
   "outputs": [],
   "source": []
  }
 ],
 "metadata": {
  "kernelspec": {
   "display_name": "Python (probe)",
   "language": "python",
   "name": "probe"
  },
  "language_info": {
   "codemirror_mode": {
    "name": "ipython",
    "version": 3
   },
   "file_extension": ".py",
   "mimetype": "text/x-python",
   "name": "python",
   "nbconvert_exporter": "python",
   "pygments_lexer": "ipython3",
   "version": "3.8.18"
  }
 },
 "nbformat": 4,
 "nbformat_minor": 5
}
