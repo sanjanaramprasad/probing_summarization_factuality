{
 "cells": [
  {
   "cell_type": "code",
   "execution_count": 1,
   "id": "3ebc7efe-41ad-482b-84e7-e9b2332da140",
   "metadata": {},
   "outputs": [],
   "source": [
    "import json"
   ]
  },
  {
   "cell_type": "code",
   "execution_count": 2,
   "id": "e119b311-0e5b-4359-8c8c-ad11d942f58e",
   "metadata": {},
   "outputs": [],
   "source": [
    "\n",
    "def read_jsonl_file(filename):\n",
    "    data = []\n",
    "    with open(filename) as f:\n",
    "        for line in f:\n",
    "            data.append(json.loads(line))\n",
    "    return data\n"
   ]
  },
  {
   "cell_type": "code",
   "execution_count": 5,
   "id": "fe103874-5ac3-483c-9f96-25a2991c3bc7",
   "metadata": {},
   "outputs": [
    {
     "data": {
      "text/plain": [
       "dict_keys(['id', 'summ_idx', 'input_lines', 'summary', 'annotated_summary'])"
      ]
     },
     "execution_count": 5,
     "metadata": {},
     "output_type": "execute_result"
    }
   ],
   "source": [
    "filename = '/work/frink/ramprasad.sa/usb/task_datasets/all/unsupported_span_prediction/train.jsonl'\n",
    "\n",
    "summarization_train_data = read_jsonl_file(filename)\n",
    "summarization_train_data[0].keys()"
   ]
  },
  {
   "cell_type": "code",
   "execution_count": 35,
   "id": "3a7c638c-4fe7-4163-bb75-1b9cf0d29a82",
   "metadata": {},
   "outputs": [
    {
     "data": {
      "text/plain": [
       "'Wendy Jane Crewson (born May 9, 1956) is a Canadian actress and producer.'"
      ]
     },
     "execution_count": 35,
     "metadata": {},
     "output_type": "execute_result"
    }
   ],
   "source": [
    "summarization_train_data[0]['summary']"
   ]
  },
  {
   "cell_type": "code",
   "execution_count": 31,
   "id": "1581b518-73fb-48e5-abfa-751ebdc42ab8",
   "metadata": {},
   "outputs": [],
   "source": [
    "import re\n",
    "import string\n",
    "\n",
    "# Example text with span tags\n",
    "text = \"This is []some text[/] with []span tags[/] in it.\"\n",
    "\n",
    "# Regular expression pattern to match text between \"[start]\" and \"[/]\"\n",
    "\n",
    "def extract_unsupported_spans(text):   \n",
    "    pattern = r\"\\[\\](.*?)\\[/\\]\"\n",
    "    # Use re.findall to find all matches\n",
    "    matches = re.findall(pattern, text)\n",
    "    pattern = r\"\\[\\](.*?)\\[/\\]\"\n",
    "    return [match.strip() for match in matches]\n",
    "    \n",
    "def remove_punctuation(w):\n",
    "    w = w.strip(string.punctuation)\n",
    "    w = w.strip()\n",
    "    return w\n",
    "\n",
    "def get_to_words(w):\n",
    "    while w != remove_punctuation(w):\n",
    "        w = remove_punctuation(w)\n",
    "    return w\n"
   ]
  },
  {
   "cell_type": "code",
   "execution_count": 38,
   "id": "2b06555f-a1b3-4a6a-9b54-26390888240e",
   "metadata": {},
   "outputs": [
    {
     "data": {
      "text/html": [
       "<div>\n",
       "<style scoped>\n",
       "    .dataframe tbody tr th:only-of-type {\n",
       "        vertical-align: middle;\n",
       "    }\n",
       "\n",
       "    .dataframe tbody tr th {\n",
       "        vertical-align: top;\n",
       "    }\n",
       "\n",
       "    .dataframe thead th {\n",
       "        text-align: right;\n",
       "    }\n",
       "</style>\n",
       "<table border=\"1\" class=\"dataframe\">\n",
       "  <thead>\n",
       "    <tr style=\"text-align: right;\">\n",
       "      <th></th>\n",
       "      <th>id</th>\n",
       "      <th>source</th>\n",
       "      <th>summary</th>\n",
       "      <th>annotated_spans</th>\n",
       "      <th>model</th>\n",
       "      <th>origin</th>\n",
       "    </tr>\n",
       "  </thead>\n",
       "  <tbody>\n",
       "    <tr>\n",
       "      <th>0</th>\n",
       "      <td>biographies/f79362b7ac.json</td>\n",
       "      <td>Wendy Jane Crewson. Crewson was born in Hamilt...</td>\n",
       "      <td>Wendy Jane Crewson (born May 9, 1956) is a Can...</td>\n",
       "      <td>[born May 9 , 1956, and producer]</td>\n",
       "      <td>human_annotated</td>\n",
       "      <td>wiki</td>\n",
       "    </tr>\n",
       "    <tr>\n",
       "      <th>1</th>\n",
       "      <td>biographies/f79362b7ac.json</td>\n",
       "      <td>In 1993, she starred in the psychological thri...</td>\n",
       "      <td>Wendy Jane Crewson (born May 9, 1956) is a Can...</td>\n",
       "      <td>[Hollywood]</td>\n",
       "      <td>human_annotated</td>\n",
       "      <td>wiki</td>\n",
       "    </tr>\n",
       "    <tr>\n",
       "      <th>2</th>\n",
       "      <td>biographies/f79362b7ac.json</td>\n",
       "      <td>She also appeared in \"Between Strangers\" (2002...</td>\n",
       "      <td>Wendy Jane Crewson (born May 9, 1956) is a Can...</td>\n",
       "      <td>[]</td>\n",
       "      <td>human_annotated</td>\n",
       "      <td>wiki</td>\n",
       "    </tr>\n",
       "    <tr>\n",
       "      <th>3</th>\n",
       "      <td>biographies/f79362b7ac.json</td>\n",
       "      <td>She had leading roles in a number of made for ...</td>\n",
       "      <td>Wendy Jane Crewson (born May 9, 1956) is a Can...</td>\n",
       "      <td>[]</td>\n",
       "      <td>human_annotated</td>\n",
       "      <td>wiki</td>\n",
       "    </tr>\n",
       "    <tr>\n",
       "      <th>4</th>\n",
       "      <td>biographies/f79362b7ac.json</td>\n",
       "      <td>In 2003, Crewson took a recurring role as Dr. ...</td>\n",
       "      <td>Wendy Jane Crewson (born May 9, 1956) is a Can...</td>\n",
       "      <td>[]</td>\n",
       "      <td>human_annotated</td>\n",
       "      <td>wiki</td>\n",
       "    </tr>\n",
       "  </tbody>\n",
       "</table>\n",
       "</div>"
      ],
      "text/plain": [
       "                            id  \\\n",
       "0  biographies/f79362b7ac.json   \n",
       "1  biographies/f79362b7ac.json   \n",
       "2  biographies/f79362b7ac.json   \n",
       "3  biographies/f79362b7ac.json   \n",
       "4  biographies/f79362b7ac.json   \n",
       "\n",
       "                                              source  \\\n",
       "0  Wendy Jane Crewson. Crewson was born in Hamilt...   \n",
       "1  In 1993, she starred in the psychological thri...   \n",
       "2  She also appeared in \"Between Strangers\" (2002...   \n",
       "3  She had leading roles in a number of made for ...   \n",
       "4  In 2003, Crewson took a recurring role as Dr. ...   \n",
       "\n",
       "                                             summary  \\\n",
       "0  Wendy Jane Crewson (born May 9, 1956) is a Can...   \n",
       "1  Wendy Jane Crewson (born May 9, 1956) is a Can...   \n",
       "2  Wendy Jane Crewson (born May 9, 1956) is a Can...   \n",
       "3  Wendy Jane Crewson (born May 9, 1956) is a Can...   \n",
       "4  Wendy Jane Crewson (born May 9, 1956) is a Can...   \n",
       "\n",
       "                     annotated_spans            model origin  \n",
       "0  [born May 9 , 1956, and producer]  human_annotated   wiki  \n",
       "1                        [Hollywood]  human_annotated   wiki  \n",
       "2                                 []  human_annotated   wiki  \n",
       "3                                 []  human_annotated   wiki  \n",
       "4                                 []  human_annotated   wiki  "
      ]
     },
     "execution_count": 38,
     "metadata": {},
     "output_type": "execute_result"
    }
   ],
   "source": [
    "import pandas as pd\n",
    "\n",
    "df_usb_train = {'id': [],\n",
    "                'source': [],\n",
    "                'summary': [],\n",
    "                'annotated_spans': [],\n",
    "               'model': [],\n",
    "               'origin': []}\n",
    "\n",
    "for dat in summarization_train_data:\n",
    "    # print(dat['annotated_summary'])\n",
    "    dat_id = dat['id']\n",
    "    source = '. '.join(dat['input_lines'])\n",
    "    summary = summarization_train_data[0]['summary']\n",
    "    unsup_spans = extract_unsupported_spans(dat['annotated_summary'])\n",
    "    unsup_spans = [get_to_words(each) for each in unsup_spans]\n",
    "    model = 'human_annotated'\n",
    "    origin = 'wiki'\n",
    "    \n",
    "    df_usb_train['id'] += [dat_id]\n",
    "    df_usb_train['source'] += [source]\n",
    "    df_usb_train['summary'] += [summary]\n",
    "    df_usb_train['annotated_spans'] += [unsup_spans]\n",
    "    df_usb_train['model'] += [model]\n",
    "    df_usb_train['origin'] += [origin]\n",
    "\n",
    "df_usb_train = pd.DataFrame(df_usb_train)\n",
    "df_usb_train.head()"
   ]
  },
  {
   "cell_type": "code",
   "execution_count": 12,
   "id": "1db9feaf-da2f-4fda-a1b3-6bd659df29fd",
   "metadata": {},
   "outputs": [
    {
     "data": {
      "text/plain": [
       "{'summ_idx': 0,\n",
       " 'id': 'biographies/964699522d.json',\n",
       " 'input_lines': ['Bradford Parkinson',\n",
       "  'There he developed tests and was a Chief Analyst for the evaluation of the Air Force’s inertial guidance systems and continued work on electrical and controls engineering.',\n",
       "  'Parkinson rather elected to retire from the Air Force.',\n",
       "  'He retired at the rank of full colonel.',\n",
       "  'In 2001 he briefly retired from Stanford and named Emeritus, but was immediately recalled and is currently active, albeit at a lower activity level.',\n",
       "  'In 2004 he was inducted into the National Inventors Hall of Fame.',\n",
       "  'Bradford Parkinson was born in Madison, Wisconsin on February 16, 1935, but grew up in Minneapolis, Minnesota.'],\n",
       " 'summary': 'Bradford Parkinson (February 16, 1935) is an American engineer and inventor, retired United States Air Force Colonel and Emeritus Professor at Stanford University.',\n",
       " 'annotated_summary': 'Bradford Parkinson (February 16, 1935) is an American engineer and inventor, retired United States Air Force Colonel and Emeritus Professor at Stanford University.'}"
      ]
     },
     "execution_count": 12,
     "metadata": {},
     "output_type": "execute_result"
    }
   ],
   "source": [
    "summarization_train_data[6]"
   ]
  },
  {
   "cell_type": "code",
   "execution_count": null,
   "id": "54ecebff-644d-4c4d-96a1-3a94cfc3858d",
   "metadata": {},
   "outputs": [],
   "source": []
  }
 ],
 "metadata": {
  "kernelspec": {
   "display_name": "Python (probe)",
   "language": "python",
   "name": "probe"
  },
  "language_info": {
   "codemirror_mode": {
    "name": "ipython",
    "version": 3
   },
   "file_extension": ".py",
   "mimetype": "text/x-python",
   "name": "python",
   "nbconvert_exporter": "python",
   "pygments_lexer": "ipython3",
   "version": "3.8.18"
  }
 },
 "nbformat": 4,
 "nbformat_minor": 5
}
